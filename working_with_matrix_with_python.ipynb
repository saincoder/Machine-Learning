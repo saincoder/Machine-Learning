{
  "nbformat": 4,
  "nbformat_minor": 0,
  "metadata": {
    "colab": {
      "provenance": [],
      "authorship_tag": "ABX9TyOoZQ/Q7CZKLsYS+mZ8yAFb",
      "include_colab_link": true
    },
    "kernelspec": {
      "name": "python3",
      "display_name": "Python 3"
    },
    "language_info": {
      "name": "python"
    }
  },
  "cells": [
    {
      "cell_type": "markdown",
      "metadata": {
        "id": "view-in-github",
        "colab_type": "text"
      },
      "source": [
        "<a href=\"https://colab.research.google.com/github/shaid03/Machine-Learning/blob/main/working_with_matrix_with_python.ipynb\" target=\"_parent\"><img src=\"https://colab.research.google.com/assets/colab-badge.svg\" alt=\"Open In Colab\"/></a>"
      ]
    },
    {
      "cell_type": "code",
      "execution_count": 21,
      "metadata": {
        "id": "cVcprY9gpGnd"
      },
      "outputs": [],
      "source": [
        "# import libraries\n",
        "import numpy as np"
      ]
    },
    {
      "cell_type": "code",
      "source": [
        "matrix_1 = np.array([[2,5],[6,8]])"
      ],
      "metadata": {
        "id": "l8WgNc9TqZvZ"
      },
      "execution_count": 22,
      "outputs": []
    },
    {
      "cell_type": "code",
      "source": [
        "print(matrix_1)"
      ],
      "metadata": {
        "colab": {
          "base_uri": "https://localhost:8080/"
        },
        "id": "xpgv8QmmqifV",
        "outputId": "be19331f-35a3-4002-c4a0-683758b31280"
      },
      "execution_count": 23,
      "outputs": [
        {
          "output_type": "stream",
          "name": "stdout",
          "text": [
            "[[2 5]\n",
            " [6 8]]\n"
          ]
        }
      ]
    },
    {
      "cell_type": "code",
      "source": [
        "matrix_1.shape"
      ],
      "metadata": {
        "colab": {
          "base_uri": "https://localhost:8080/"
        },
        "id": "mx0rcNZbqnRU",
        "outputId": "8c159c42-30dd-4ceb-b5b5-36cbe5d74aaf"
      },
      "execution_count": 24,
      "outputs": [
        {
          "output_type": "execute_result",
          "data": {
            "text/plain": [
              "(2, 2)"
            ]
          },
          "metadata": {},
          "execution_count": 24
        }
      ]
    },
    {
      "cell_type": "code",
      "source": [
        "matrix_2 = np.array([[2,5,6],[6,8,9],[3,5,1]])"
      ],
      "metadata": {
        "id": "kJwyixWPqqNY"
      },
      "execution_count": 25,
      "outputs": []
    },
    {
      "cell_type": "code",
      "source": [
        "print(matrix_2)"
      ],
      "metadata": {
        "colab": {
          "base_uri": "https://localhost:8080/"
        },
        "id": "u3URcyINrOvN",
        "outputId": "4883f487-6269-4244-d617-332acbd42486"
      },
      "execution_count": 26,
      "outputs": [
        {
          "output_type": "stream",
          "name": "stdout",
          "text": [
            "[[2 5 6]\n",
            " [6 8 9]\n",
            " [3 5 1]]\n"
          ]
        }
      ]
    },
    {
      "cell_type": "code",
      "source": [
        "matrix_2.shape"
      ],
      "metadata": {
        "colab": {
          "base_uri": "https://localhost:8080/"
        },
        "id": "vlbiZztWrRHZ",
        "outputId": "14a86f48-99fe-47ef-b14a-e4d16047b50a"
      },
      "execution_count": 27,
      "outputs": [
        {
          "output_type": "execute_result",
          "data": {
            "text/plain": [
              "(3, 3)"
            ]
          },
          "metadata": {},
          "execution_count": 27
        }
      ]
    },
    {
      "cell_type": "markdown",
      "source": [
        "Creating matrices with random values"
      ],
      "metadata": {
        "id": "ihKdRez7rz2W"
      }
    },
    {
      "cell_type": "code",
      "source": [
        "random_matrix = np.random.rand(3,3)"
      ],
      "metadata": {
        "id": "2x1Vt_FWrTn8"
      },
      "execution_count": 28,
      "outputs": []
    },
    {
      "cell_type": "code",
      "source": [
        "print(random_matrix)"
      ],
      "metadata": {
        "colab": {
          "base_uri": "https://localhost:8080/"
        },
        "id": "lA00M_xwsLAW",
        "outputId": "cf0bd4c9-e6c0-43da-a721-89e8714efb42"
      },
      "execution_count": 29,
      "outputs": [
        {
          "output_type": "stream",
          "name": "stdout",
          "text": [
            "[[0.19449906 0.74882586 0.13301441]\n",
            " [0.624955   0.36762497 0.51174744]\n",
            " [0.94604148 0.51495605 0.10863652]]\n"
          ]
        }
      ]
    },
    {
      "cell_type": "code",
      "source": [
        "# create random_matrix with integer values\n",
        "random_matrix = np.random.randint(100, size = (3,3))"
      ],
      "metadata": {
        "id": "T7Du0srGsNuU"
      },
      "execution_count": 30,
      "outputs": []
    },
    {
      "cell_type": "code",
      "source": [
        "print(random_matrix)"
      ],
      "metadata": {
        "colab": {
          "base_uri": "https://localhost:8080/"
        },
        "id": "nSzqkJ3JsxUc",
        "outputId": "f923bc5d-e5ef-4307-a494-c6cf54387768"
      },
      "execution_count": 31,
      "outputs": [
        {
          "output_type": "stream",
          "name": "stdout",
          "text": [
            "[[ 7  3 72]\n",
            " [83 93 73]\n",
            " [ 7 37  7]]\n"
          ]
        }
      ]
    },
    {
      "cell_type": "code",
      "source": [
        "matrix_3 = np.ones((3,3))"
      ],
      "metadata": {
        "id": "JK-T8v8Ks1U8"
      },
      "execution_count": 32,
      "outputs": []
    },
    {
      "cell_type": "code",
      "source": [
        "print(matrix_3)"
      ],
      "metadata": {
        "colab": {
          "base_uri": "https://localhost:8080/"
        },
        "id": "PfeicoGptMao",
        "outputId": "2952ae65-0c18-4927-f4e1-c8e8b5c93ec2"
      },
      "execution_count": 33,
      "outputs": [
        {
          "output_type": "stream",
          "name": "stdout",
          "text": [
            "[[1. 1. 1.]\n",
            " [1. 1. 1.]\n",
            " [1. 1. 1.]]\n"
          ]
        }
      ]
    },
    {
      "cell_type": "code",
      "source": [
        "matrix_4 = np.ones((3,3),dtype=int)"
      ],
      "metadata": {
        "id": "V38fsbQLtR-d"
      },
      "execution_count": 34,
      "outputs": []
    },
    {
      "cell_type": "code",
      "source": [
        "print(matrix_4)"
      ],
      "metadata": {
        "colab": {
          "base_uri": "https://localhost:8080/"
        },
        "id": "aLnBhmgMtg1K",
        "outputId": "c0e00fdb-14d5-4347-a223-e622d1e412ee"
      },
      "execution_count": 35,
      "outputs": [
        {
          "output_type": "stream",
          "name": "stdout",
          "text": [
            "[[1 1 1]\n",
            " [1 1 1]\n",
            " [1 1 1]]\n"
          ]
        }
      ]
    },
    {
      "cell_type": "code",
      "source": [
        "# Null matrix or zero matrix\n",
        "\n",
        "matrix_5 = np.zeros((5,5))"
      ],
      "metadata": {
        "id": "ASx_7C3ttpM2"
      },
      "execution_count": 36,
      "outputs": []
    },
    {
      "cell_type": "code",
      "source": [
        "print(matrix_5)"
      ],
      "metadata": {
        "colab": {
          "base_uri": "https://localhost:8080/"
        },
        "id": "AfXib9NwuCuZ",
        "outputId": "dc39ed97-0f41-43b3-e42a-9e9ab0484286"
      },
      "execution_count": 37,
      "outputs": [
        {
          "output_type": "stream",
          "name": "stdout",
          "text": [
            "[[0. 0. 0. 0. 0.]\n",
            " [0. 0. 0. 0. 0.]\n",
            " [0. 0. 0. 0. 0.]\n",
            " [0. 0. 0. 0. 0.]\n",
            " [0. 0. 0. 0. 0.]]\n"
          ]
        }
      ]
    },
    {
      "cell_type": "markdown",
      "source": [
        "Identity matrix"
      ],
      "metadata": {
        "id": "YbemevwduLKn"
      }
    },
    {
      "cell_type": "code",
      "source": [
        "# identity matrix\n",
        "matrix_6 = np.eye(5,5, dtype= int)"
      ],
      "metadata": {
        "id": "c-SWJDXDuF2F"
      },
      "execution_count": 42,
      "outputs": []
    },
    {
      "cell_type": "code",
      "source": [
        "print(matrix_6)"
      ],
      "metadata": {
        "colab": {
          "base_uri": "https://localhost:8080/"
        },
        "id": "T4ETCTsEvQLQ",
        "outputId": "4ce9e46b-db34-477d-9e4a-83641e7e6f7e"
      },
      "execution_count": 43,
      "outputs": [
        {
          "output_type": "stream",
          "name": "stdout",
          "text": [
            "[[1 0 0 0 0]\n",
            " [0 1 0 0 0]\n",
            " [0 0 1 0 0]\n",
            " [0 0 0 1 0]\n",
            " [0 0 0 0 1]]\n"
          ]
        }
      ]
    },
    {
      "cell_type": "markdown",
      "source": [
        "Transpose of matrix"
      ],
      "metadata": {
        "id": "MagYXxYnxEj3"
      }
    },
    {
      "cell_type": "code",
      "source": [
        "# matrix with random integer value\n",
        "matrix_7 = np.random.randint(100,size = (5,5))\n",
        "print(matrix_7)"
      ],
      "metadata": {
        "colab": {
          "base_uri": "https://localhost:8080/"
        },
        "id": "yEeAf7FnviTC",
        "outputId": "79d6c18d-cb77-43ad-9ba3-ca356de136fa"
      },
      "execution_count": 45,
      "outputs": [
        {
          "output_type": "stream",
          "name": "stdout",
          "text": [
            "[[60 20 47 18 12]\n",
            " [49  6 88 98 69]\n",
            " [10 45 73 12 59]\n",
            " [ 2 27 75 29 44]\n",
            " [56 40 81 15 21]]\n"
          ]
        }
      ]
    },
    {
      "cell_type": "code",
      "source": [
        "transpose_of_matrix = np.transpose(matrix_7)"
      ],
      "metadata": {
        "id": "Pi8qv3Sgw8SY"
      },
      "execution_count": 46,
      "outputs": []
    },
    {
      "cell_type": "code",
      "source": [
        "print(transpose_of_matrix)"
      ],
      "metadata": {
        "colab": {
          "base_uri": "https://localhost:8080/"
        },
        "id": "16ZkCghLxRsk",
        "outputId": "e448baa9-7a5d-4982-9018-893775a87be6"
      },
      "execution_count": 47,
      "outputs": [
        {
          "output_type": "stream",
          "name": "stdout",
          "text": [
            "[[60 49 10  2 56]\n",
            " [20  6 45 27 40]\n",
            " [47 88 73 75 81]\n",
            " [18 98 12 29 15]\n",
            " [12 69 59 44 21]]\n"
          ]
        }
      ]
    }
  ]
}