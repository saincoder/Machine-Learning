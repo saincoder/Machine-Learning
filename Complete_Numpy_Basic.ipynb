{
  "nbformat": 4,
  "nbformat_minor": 0,
  "metadata": {
    "colab": {
      "provenance": [],
      "authorship_tag": "ABX9TyMHh3H57vqUDZ+2M8TiE4Cg",
      "include_colab_link": true
    },
    "kernelspec": {
      "name": "python3",
      "display_name": "Python 3"
    },
    "language_info": {
      "name": "python"
    }
  },
  "cells": [
    {
      "cell_type": "markdown",
      "metadata": {
        "id": "view-in-github",
        "colab_type": "text"
      },
      "source": [
        "<a href=\"https://colab.research.google.com/github/shaid03/Machine-Learning/blob/main/Complete_Numpy_Basic.ipynb\" target=\"_parent\"><img src=\"https://colab.research.google.com/assets/colab-badge.svg\" alt=\"Open In Colab\"/></a>"
      ]
    },
    {
      "cell_type": "markdown",
      "source": [
        "***Numpy Basic***\n",
        "\n",
        "***Numpy --> Numerical Python***\n",
        "\n",
        "Advantages of Numpy array\n",
        "\n",
        "1. Allow serval methematical operation\n",
        "\n",
        "2. Faster operations"
      ],
      "metadata": {
        "id": "6AfHhBC-zvbB"
      }
    },
    {
      "cell_type": "code",
      "execution_count": 5,
      "metadata": {
        "id": "G-pwOhV0qxwf"
      },
      "outputs": [],
      "source": [
        "# to use numpy we need to import this library\n",
        "import numpy as np"
      ]
    },
    {
      "cell_type": "markdown",
      "source": [
        "List vs Numpy --> Time Taken"
      ],
      "metadata": {
        "id": "IKQI_xnfGqyU"
      }
    },
    {
      "cell_type": "code",
      "source": [
        "from time import process_time"
      ],
      "metadata": {
        "id": "r3I5AghnFlEq"
      },
      "execution_count": 6,
      "outputs": []
    },
    {
      "cell_type": "markdown",
      "source": [
        "Time Taken by List"
      ],
      "metadata": {
        "id": "M29KN-WLHNkt"
      }
    },
    {
      "cell_type": "code",
      "source": [
        "python_list = [i for i in range(10000000)]\n",
        "\n",
        "start_time = process_time()\n",
        "\n",
        "python_list = [i+5 for i in python_list]\n",
        "\n",
        "end_time = process_time()\n",
        "\n",
        "print(end_time - start_time)"
      ],
      "metadata": {
        "colab": {
          "base_uri": "https://localhost:8080/"
        },
        "id": "soSiaZBeHK-F",
        "outputId": "3d64608c-9a36-40fd-95d8-dfd70df83827"
      },
      "execution_count": 7,
      "outputs": [
        {
          "output_type": "stream",
          "name": "stdout",
          "text": [
            "0.9350630820000001\n"
          ]
        }
      ]
    },
    {
      "cell_type": "markdown",
      "source": [
        "Now do the same process in numpy array"
      ],
      "metadata": {
        "id": "7XZ0vN1aOZrZ"
      }
    },
    {
      "cell_type": "code",
      "source": [
        "np_array = np.array([i for i in range(10000000)])\n",
        "\n",
        "start_time = process_time()\n",
        "\n",
        "np_array +=5\n",
        "\n",
        "end_time = process_time()\n",
        "\n",
        "print(end_time - start_time)"
      ],
      "metadata": {
        "colab": {
          "base_uri": "https://localhost:8080/"
        },
        "id": "fZG6HRx2N_di",
        "outputId": "0ae0bdf8-c872-4e07-b936-8b449a18d2df"
      },
      "execution_count": 8,
      "outputs": [
        {
          "output_type": "stream",
          "name": "stdout",
          "text": [
            "0.014554803999999422\n"
          ]
        }
      ]
    },
    {
      "cell_type": "code",
      "source": [
        "#difference betweeen list and numpy array\n",
        "\n",
        "#list\n",
        "list1 = [1,2,3,4,5,6]\n",
        "print(list1)\n",
        "type(list1)\n",
        "\n",
        "#numpy array\n",
        "np_array = np.array([1,2,3,4,5,6])\n",
        "print(np_array)\n",
        "type(np_array)"
      ],
      "metadata": {
        "colab": {
          "base_uri": "https://localhost:8080/"
        },
        "id": "GN1eTiBFRVGC",
        "outputId": "5b8c40c4-2e27-4c7a-9086-8121c42e55f8"
      },
      "execution_count": 9,
      "outputs": [
        {
          "output_type": "stream",
          "name": "stdout",
          "text": [
            "[1, 2, 3, 4, 5, 6]\n",
            "[1 2 3 4 5 6]\n"
          ]
        },
        {
          "output_type": "execute_result",
          "data": {
            "text/plain": [
              "numpy.ndarray"
            ]
          },
          "metadata": {},
          "execution_count": 9
        }
      ]
    },
    {
      "cell_type": "code",
      "source": [
        "# create one dimension array\n",
        "a = np.array([1,2,3,4,5])\n",
        "print(a)"
      ],
      "metadata": {
        "colab": {
          "base_uri": "https://localhost:8080/"
        },
        "id": "Re7_XUAFRbwA",
        "outputId": "32094433-207d-48da-ffd1-e96f943360d8"
      },
      "execution_count": 10,
      "outputs": [
        {
          "output_type": "stream",
          "name": "stdout",
          "text": [
            "[1 2 3 4 5]\n"
          ]
        }
      ]
    },
    {
      "cell_type": "code",
      "source": [
        "# Now print it shape\n",
        "# the output will be five and here five represent 5 columns\n",
        "a.shape"
      ],
      "metadata": {
        "colab": {
          "base_uri": "https://localhost:8080/"
        },
        "id": "KzfsQXlAS8ij",
        "outputId": "9f17eb08-f468-43f0-cff3-4b609e191cd4"
      },
      "execution_count": 11,
      "outputs": [
        {
          "output_type": "execute_result",
          "data": {
            "text/plain": [
              "(5,)"
            ]
          },
          "metadata": {},
          "execution_count": 11
        }
      ]
    },
    {
      "cell_type": "code",
      "source": [
        "#Now create two dimension array\n",
        "b = np.array([(1,2,3,4),(5,6,7,8),(9,10,11,12)])\n",
        "print(b)"
      ],
      "metadata": {
        "colab": {
          "base_uri": "https://localhost:8080/"
        },
        "id": "v4rGZ4hzTa4I",
        "outputId": "b1d72063-d559-43eb-9904-668af5c2dccd"
      },
      "execution_count": 12,
      "outputs": [
        {
          "output_type": "stream",
          "name": "stdout",
          "text": [
            "[[ 1  2  3  4]\n",
            " [ 5  6  7  8]\n",
            " [ 9 10 11 12]]\n"
          ]
        }
      ]
    },
    {
      "cell_type": "code",
      "source": [
        "# Now create it shape\n",
        "# Here the output will be (3, 4), so 3 is the column and 4 is the row\n",
        "b.shape"
      ],
      "metadata": {
        "colab": {
          "base_uri": "https://localhost:8080/"
        },
        "id": "JE4gaxoDT9jP",
        "outputId": "d5a9d0d6-7844-4f64-976f-e8c281b07120"
      },
      "execution_count": 13,
      "outputs": [
        {
          "output_type": "execute_result",
          "data": {
            "text/plain": [
              "(3, 4)"
            ]
          },
          "metadata": {},
          "execution_count": 13
        }
      ]
    },
    {
      "cell_type": "code",
      "source": [
        "# mention data type\n",
        "# the default value will be integer\n",
        "\n",
        "c = np.array([(1,2,3,4),(3,5,24,3)], dtype = float)\n",
        "print(c)"
      ],
      "metadata": {
        "colab": {
          "base_uri": "https://localhost:8080/"
        },
        "id": "1ti616kAUAW_",
        "outputId": "128ca570-dada-49df-cd2a-1f2044e51cab"
      },
      "execution_count": 14,
      "outputs": [
        {
          "output_type": "stream",
          "name": "stdout",
          "text": [
            "[[ 1.  2.  3.  4.]\n",
            " [ 3.  5. 24.  3.]]\n"
          ]
        }
      ]
    },
    {
      "cell_type": "markdown",
      "source": [
        "***Initial Placeholder in Numpy Array***"
      ],
      "metadata": {
        "id": "GekIW6DFXMk6"
      }
    },
    {
      "cell_type": "code",
      "source": [
        "# Create numpy array of Zeros\n",
        "\n",
        "x = np.zeros((4,5))\n",
        "print(x)"
      ],
      "metadata": {
        "colab": {
          "base_uri": "https://localhost:8080/"
        },
        "id": "I6s3f7sSU73G",
        "outputId": "0fe21b96-0295-4eba-83a7-c9987a9904e7"
      },
      "execution_count": 15,
      "outputs": [
        {
          "output_type": "stream",
          "name": "stdout",
          "text": [
            "[[0. 0. 0. 0. 0.]\n",
            " [0. 0. 0. 0. 0.]\n",
            " [0. 0. 0. 0. 0.]\n",
            " [0. 0. 0. 0. 0.]]\n"
          ]
        }
      ]
    },
    {
      "cell_type": "code",
      "source": [
        "# Create numpy array of ones\n",
        "\n",
        "y = np.ones((4,5))\n",
        "print(y)"
      ],
      "metadata": {
        "colab": {
          "base_uri": "https://localhost:8080/"
        },
        "id": "Xtu34N6zXuGP",
        "outputId": "023bf40c-4f27-4cf5-8593-ef22635a9ab9"
      },
      "execution_count": 16,
      "outputs": [
        {
          "output_type": "stream",
          "name": "stdout",
          "text": [
            "[[1. 1. 1. 1. 1.]\n",
            " [1. 1. 1. 1. 1.]\n",
            " [1. 1. 1. 1. 1.]\n",
            " [1. 1. 1. 1. 1.]]\n"
          ]
        }
      ]
    },
    {
      "cell_type": "code",
      "source": [
        "# Create numpy array of particular values\n",
        "\n",
        "empt = np.full((6,4), 5)\n",
        "print(empt)"
      ],
      "metadata": {
        "colab": {
          "base_uri": "https://localhost:8080/"
        },
        "id": "ShUhKtjIX_4Q",
        "outputId": "fe94bb18-2677-4650-aab7-1f65fbdbea71"
      },
      "execution_count": 17,
      "outputs": [
        {
          "output_type": "stream",
          "name": "stdout",
          "text": [
            "[[5 5 5 5]\n",
            " [5 5 5 5]\n",
            " [5 5 5 5]\n",
            " [5 5 5 5]\n",
            " [5 5 5 5]\n",
            " [5 5 5 5]]\n"
          ]
        }
      ]
    },
    {
      "cell_type": "code",
      "source": [
        "# create an identity matrix\n",
        "\n",
        "a = np.eye(4)\n",
        "print(a)"
      ],
      "metadata": {
        "colab": {
          "base_uri": "https://localhost:8080/"
        },
        "id": "Iu0NO334YN1x",
        "outputId": "e6effceb-06e1-40a5-92a1-1e0953869f04"
      },
      "execution_count": 18,
      "outputs": [
        {
          "output_type": "stream",
          "name": "stdout",
          "text": [
            "[[1. 0. 0. 0.]\n",
            " [0. 1. 0. 0.]\n",
            " [0. 0. 1. 0.]\n",
            " [0. 0. 0. 1.]]\n"
          ]
        }
      ]
    },
    {
      "cell_type": "code",
      "source": [
        "# create a numpy random array\n",
        "\n",
        "b = np.random.random((3,4))\n",
        "print(b)"
      ],
      "metadata": {
        "colab": {
          "base_uri": "https://localhost:8080/"
        },
        "id": "tMQA2L9NZVc-",
        "outputId": "c32bf479-1bdb-4d11-8947-f8a22fe07255"
      },
      "execution_count": 19,
      "outputs": [
        {
          "output_type": "stream",
          "name": "stdout",
          "text": [
            "[[0.58791026 0.58660043 0.97290998 0.58823661]\n",
            " [0.32606461 0.34952985 0.51090364 0.28659762]\n",
            " [0.80815667 0.78897154 0.40378281 0.19255568]]\n"
          ]
        }
      ]
    },
    {
      "cell_type": "code",
      "source": [
        "# create a numpy random integer array with a specific range\n",
        "\n",
        "c = np.random.randint(10,100, (3,5))\n",
        "print(c)"
      ],
      "metadata": {
        "colab": {
          "base_uri": "https://localhost:8080/"
        },
        "id": "siccmBQTaqZa",
        "outputId": "b7c95a6b-d1f5-4daf-b9a6-6d074565f762"
      },
      "execution_count": 20,
      "outputs": [
        {
          "output_type": "stream",
          "name": "stdout",
          "text": [
            "[[15 69 53 20 39]\n",
            " [87 63 18 23 46]\n",
            " [69 18 14 90 86]]\n"
          ]
        }
      ]
    },
    {
      "cell_type": "code",
      "source": [
        "# array of evenly spaced array\n",
        "d = np.linspace(1,100, 10)\n",
        "print(d)"
      ],
      "metadata": {
        "colab": {
          "base_uri": "https://localhost:8080/"
        },
        "id": "3ZcoJFk0cemX",
        "outputId": "efdea331-20ae-45a1-a27b-a325cc80c894"
      },
      "execution_count": 21,
      "outputs": [
        {
          "output_type": "stream",
          "name": "stdout",
          "text": [
            "[  1.  12.  23.  34.  45.  56.  67.  78.  89. 100.]\n"
          ]
        }
      ]
    },
    {
      "cell_type": "code",
      "source": [
        "# array of evenly steped array\n",
        "e = np.arange(10,30,5)\n",
        "print(e)"
      ],
      "metadata": {
        "colab": {
          "base_uri": "https://localhost:8080/"
        },
        "id": "-LwCBi2EFd6b",
        "outputId": "b5d93d01-eba0-4b61-b069-ea50f379e869"
      },
      "execution_count": 24,
      "outputs": [
        {
          "output_type": "stream",
          "name": "stdout",
          "text": [
            "[10 15 20 25]\n"
          ]
        }
      ]
    },
    {
      "cell_type": "code",
      "source": [
        "#convert list to numpy array\n",
        "\n",
        "list2 = [1,2,3,4,5,6,7]\n",
        "numpy_array2 = np.asarray(list2)\n",
        "print(numpy_array2)"
      ],
      "metadata": {
        "colab": {
          "base_uri": "https://localhost:8080/"
        },
        "id": "ydNYHkAmFiH-",
        "outputId": "c6a6c48f-2477-4b3b-daae-e625f64bf629"
      },
      "execution_count": 25,
      "outputs": [
        {
          "output_type": "stream",
          "name": "stdout",
          "text": [
            "[1 2 3 4 5 6 7]\n"
          ]
        }
      ]
    },
    {
      "cell_type": "markdown",
      "source": [
        "***Analysing a numpy array***"
      ],
      "metadata": {
        "id": "fKq0uPBOHL4Q"
      }
    },
    {
      "cell_type": "code",
      "source": [
        "an = np.random.randint(10,99,(5,5))\n",
        "print(an)"
      ],
      "metadata": {
        "colab": {
          "base_uri": "https://localhost:8080/"
        },
        "id": "TMHIzySLHQSn",
        "outputId": "940c470a-0ca1-4527-9ec1-b8a9aa9fabfb"
      },
      "execution_count": 27,
      "outputs": [
        {
          "output_type": "stream",
          "name": "stdout",
          "text": [
            "[[55 94 24 56 60]\n",
            " [20 72 77 72 32]\n",
            " [80 82 75 15 10]\n",
            " [24 72 21 35 89]\n",
            " [84 80 31 82 74]]\n"
          ]
        }
      ]
    },
    {
      "cell_type": "code",
      "source": [
        "# array dimensions\n",
        "print(an.shape)"
      ],
      "metadata": {
        "colab": {
          "base_uri": "https://localhost:8080/"
        },
        "id": "1DkHssBcHjA-",
        "outputId": "94fd1ec9-71b4-4598-ba01-b170798f07c3"
      },
      "execution_count": 32,
      "outputs": [
        {
          "output_type": "stream",
          "name": "stdout",
          "text": [
            "(5, 5)\n"
          ]
        }
      ]
    },
    {
      "cell_type": "code",
      "source": [
        "#number of dimensions\n",
        "print(an.ndim)"
      ],
      "metadata": {
        "colab": {
          "base_uri": "https://localhost:8080/"
        },
        "id": "fB55NhrnHmwK",
        "outputId": "de7c3e3d-daa5-4fbb-e1f7-03e4f7dbcebd"
      },
      "execution_count": 33,
      "outputs": [
        {
          "output_type": "stream",
          "name": "stdout",
          "text": [
            "2\n"
          ]
        }
      ]
    },
    {
      "cell_type": "code",
      "source": [
        "# number of element in array\n",
        "\n",
        "print(an.size)"
      ],
      "metadata": {
        "colab": {
          "base_uri": "https://localhost:8080/"
        },
        "id": "LLpEkuNHJKNg",
        "outputId": "d8179e4d-36db-43da-e78f-92239bae51dd"
      },
      "execution_count": 35,
      "outputs": [
        {
          "output_type": "stream",
          "name": "stdout",
          "text": [
            "25\n"
          ]
        }
      ]
    },
    {
      "cell_type": "code",
      "source": [
        "# checking the data type of the value in array\n",
        "\n",
        "print(an.dtype)"
      ],
      "metadata": {
        "colab": {
          "base_uri": "https://localhost:8080/"
        },
        "id": "qtwShS5YJqRw",
        "outputId": "871d9cc0-7c25-4842-849c-4cedf65ba0cd"
      },
      "execution_count": 37,
      "outputs": [
        {
          "output_type": "stream",
          "name": "stdout",
          "text": [
            "int64\n"
          ]
        }
      ]
    },
    {
      "cell_type": "markdown",
      "source": [
        "***Mathematically operation in numpy array***"
      ],
      "metadata": {
        "id": "Za8JTXJ4KRPq"
      }
    },
    {
      "cell_type": "code",
      "source": [
        "list1 = [1,2,3,4,5]\n",
        "list2 = [6,7,8,9,10]\n",
        "\n",
        "print(list1 + list2) # here it just concatenate the value #not adding the value"
      ],
      "metadata": {
        "colab": {
          "base_uri": "https://localhost:8080/"
        },
        "id": "gqxKLf37Jvn7",
        "outputId": "6f7dd9fb-b700-43ee-8832-81d4a8567b50"
      },
      "execution_count": 39,
      "outputs": [
        {
          "output_type": "stream",
          "name": "stdout",
          "text": [
            "[1, 2, 3, 4, 5, 6, 7, 8, 9, 10]\n"
          ]
        }
      ]
    },
    {
      "cell_type": "code",
      "source": [
        "# Now do the same process for numpy array\n",
        "\n",
        "np1 = np.random.randint(0,10,(3,3))\n",
        "np2 = np.random.randint(10,20,(3,3))"
      ],
      "metadata": {
        "id": "mG87sXQGLr65"
      },
      "execution_count": 40,
      "outputs": []
    },
    {
      "cell_type": "code",
      "source": [
        "print(np1)\n",
        "print(np2)"
      ],
      "metadata": {
        "colab": {
          "base_uri": "https://localhost:8080/"
        },
        "id": "smvWeo2xMGrs",
        "outputId": "99f8278e-f9f6-439d-ed2f-e75a7d051911"
      },
      "execution_count": 42,
      "outputs": [
        {
          "output_type": "stream",
          "name": "stdout",
          "text": [
            "[[8 6 7]\n",
            " [0 5 4]\n",
            " [9 0 4]]\n",
            "[[16 13 10]\n",
            " [17 18 10]\n",
            " [11 13 14]]\n"
          ]
        }
      ]
    },
    {
      "cell_type": "code",
      "source": [
        "print(np1 + np2)\n",
        "print(np1 - np2)\n",
        "print(np1 * np2)\n",
        "print(np1 / np2)"
      ],
      "metadata": {
        "colab": {
          "base_uri": "https://localhost:8080/"
        },
        "id": "PHbtKwOgMMxp",
        "outputId": "659c3f00-7839-4eb2-e17c-be9675a9d9b0"
      },
      "execution_count": 46,
      "outputs": [
        {
          "output_type": "stream",
          "name": "stdout",
          "text": [
            "[[24 19 17]\n",
            " [17 23 14]\n",
            " [20 13 18]]\n",
            "[[ -8  -7  -3]\n",
            " [-17 -13  -6]\n",
            " [ -2 -13 -10]]\n",
            "[[128  78  70]\n",
            " [  0  90  40]\n",
            " [ 99   0  56]]\n",
            "[[0.5        0.46153846 0.7       ]\n",
            " [0.         0.27777778 0.4       ]\n",
            " [0.81818182 0.         0.28571429]]\n"
          ]
        }
      ]
    },
    {
      "cell_type": "code",
      "source": [
        "# now do the same process through numpy functions\n",
        "\n",
        "a = np.random.randint(0,10,(3,3))\n",
        "b = np.random.randint(10,20,(3,3))"
      ],
      "metadata": {
        "id": "fJmOV2bYNW1c"
      },
      "execution_count": 47,
      "outputs": []
    },
    {
      "cell_type": "code",
      "source": [
        "print(a)\n",
        "print(b)"
      ],
      "metadata": {
        "colab": {
          "base_uri": "https://localhost:8080/"
        },
        "id": "noY0DdF3NhQ6",
        "outputId": "845ba3fa-7114-4831-f43c-e21adbe248e0"
      },
      "execution_count": 49,
      "outputs": [
        {
          "output_type": "stream",
          "name": "stdout",
          "text": [
            "[[7 0 2]\n",
            " [3 4 9]\n",
            " [2 0 5]]\n",
            "[[17 10 12]\n",
            " [12 10 14]\n",
            " [17 14 14]]\n"
          ]
        }
      ]
    },
    {
      "cell_type": "code",
      "source": [
        "print(np.add(a,b))\n",
        "print(np.subtract(a,b))\n",
        "print(np.multiply(a,b))\n",
        "print(np.divide(a,b))"
      ],
      "metadata": {
        "colab": {
          "base_uri": "https://localhost:8080/"
        },
        "id": "z2nYeDWcNk1F",
        "outputId": "067de605-8fff-473e-f2fe-2f5022884e00"
      },
      "execution_count": 53,
      "outputs": [
        {
          "output_type": "stream",
          "name": "stdout",
          "text": [
            "[[24 10 14]\n",
            " [15 14 23]\n",
            " [19 14 19]]\n",
            "[[-10 -10 -10]\n",
            " [ -9  -6  -5]\n",
            " [-15 -14  -9]]\n",
            "[[119   0  24]\n",
            " [ 36  40 126]\n",
            " [ 34   0  70]]\n",
            "[[0.41176471 0.         0.16666667]\n",
            " [0.25       0.4        0.64285714]\n",
            " [0.11764706 0.         0.35714286]]\n"
          ]
        }
      ]
    },
    {
      "cell_type": "markdown",
      "source": [
        "***Array Manipulation***"
      ],
      "metadata": {
        "id": "5gF8hxV4OIVg"
      }
    },
    {
      "cell_type": "code",
      "source": [
        "# random array\n",
        "array = np.random.randint(0,10,(2,3))\n",
        "print(array)\n",
        "# random array size\n",
        "print(np.shape(array))"
      ],
      "metadata": {
        "colab": {
          "base_uri": "https://localhost:8080/"
        },
        "id": "MSD8N723OHmc",
        "outputId": "e6c28ef4-6a06-4f89-b56b-6a8863402613"
      },
      "execution_count": 59,
      "outputs": [
        {
          "output_type": "stream",
          "name": "stdout",
          "text": [
            "[[8 3 2]\n",
            " [2 9 7]]\n",
            "(2, 3)\n"
          ]
        }
      ]
    },
    {
      "cell_type": "code",
      "source": [
        "# transpose of the above array\n",
        "\n",
        "trans = np.transpose(array)\n",
        "print(trans)\n",
        "print(np.shape(trans))"
      ],
      "metadata": {
        "colab": {
          "base_uri": "https://localhost:8080/"
        },
        "id": "lYjgr-0VOxjY",
        "outputId": "b2431a93-2642-4aef-a5ec-2fa9fe4ce3cc"
      },
      "execution_count": 58,
      "outputs": [
        {
          "output_type": "stream",
          "name": "stdout",
          "text": [
            "[[1 9]\n",
            " [3 2]\n",
            " [9 7]]\n",
            "(3, 2)\n"
          ]
        }
      ]
    },
    {
      "cell_type": "code",
      "source": [
        "# another method of trans\n",
        "\n",
        "trans2 = array.T\n",
        "print(trans2)\n",
        "print(np.shape(trans2))"
      ],
      "metadata": {
        "colab": {
          "base_uri": "https://localhost:8080/"
        },
        "id": "uSbiDJvvPAAt",
        "outputId": "a6dd79c5-4d83-4bab-b160-04dbdb9d92f0"
      },
      "execution_count": 61,
      "outputs": [
        {
          "output_type": "stream",
          "name": "stdout",
          "text": [
            "[[8 2]\n",
            " [3 9]\n",
            " [2 7]]\n",
            "(3, 2)\n"
          ]
        }
      ]
    },
    {
      "cell_type": "code",
      "source": [
        "# reshape random array\n",
        "array = np.random.randint(0,10,(2,3))\n",
        "print(array)\n",
        "# random array size\n",
        "print(np.shape(array))"
      ],
      "metadata": {
        "colab": {
          "base_uri": "https://localhost:8080/"
        },
        "id": "WgMcxCcVQO-v",
        "outputId": "c8943f1a-1887-4797-c28d-79a78fc2c3b0"
      },
      "execution_count": 65,
      "outputs": [
        {
          "output_type": "stream",
          "name": "stdout",
          "text": [
            "[[3 3 0]\n",
            " [5 1 0]]\n",
            "(2, 3)\n"
          ]
        }
      ]
    },
    {
      "cell_type": "code",
      "source": [
        "# Here i change the shape of the array\n",
        "reshape_array = array.reshape(3,2)\n",
        "print(reshape_array)\n",
        "print(np.shape(reshape_array))"
      ],
      "metadata": {
        "colab": {
          "base_uri": "https://localhost:8080/"
        },
        "id": "_W1vHCtXQXVi",
        "outputId": "8fedd242-6d79-4a00-89e7-c72480316e2b"
      },
      "execution_count": 67,
      "outputs": [
        {
          "output_type": "stream",
          "name": "stdout",
          "text": [
            "[[3 3]\n",
            " [0 5]\n",
            " [1 0]]\n",
            "(3, 2)\n"
          ]
        }
      ]
    }
  ]
}