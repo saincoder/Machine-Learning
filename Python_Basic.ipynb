{
  "nbformat": 4,
  "nbformat_minor": 0,
  "metadata": {
    "colab": {
      "provenance": [],
      "authorship_tag": "ABX9TyNVEubsDNDb0I9prPMur88l",
      "include_colab_link": true
    },
    "kernelspec": {
      "name": "python3",
      "display_name": "Python 3"
    },
    "language_info": {
      "name": "python"
    }
  },
  "cells": [
    {
      "cell_type": "markdown",
      "metadata": {
        "id": "view-in-github",
        "colab_type": "text"
      },
      "source": [
        "<a href=\"https://colab.research.google.com/github/shaid03/Coursework/blob/main/Python_Basic.ipynb\" target=\"_parent\"><img src=\"https://colab.research.google.com/assets/colab-badge.svg\" alt=\"Open In Colab\"/></a>"
      ]
    },
    {
      "cell_type": "markdown",
      "source": [
        "***Programming Language used for Machine Learning***\n",
        "1. ***Python***\n",
        "2. ***R***"
      ],
      "metadata": {
        "id": "WU1MRHA9JucE"
      }
    },
    {
      "cell_type": "markdown",
      "source": [
        "### ***Now we are starting python***"
      ],
      "metadata": {
        "id": "sj77zSlwMwhU"
      }
    },
    {
      "cell_type": "markdown",
      "source": [
        "***Input Function***"
      ],
      "metadata": {
        "id": "FW0Dc1_AY_lv"
      }
    },
    {
      "cell_type": "code",
      "source": [
        "first_number = int(input(\"Enter first number: \"))\n",
        "second_number = int(input(\"Enter second number: \"))\n",
        "\n",
        "sum = first_number + second_number\n",
        "print(sum)"
      ],
      "metadata": {
        "colab": {
          "base_uri": "https://localhost:8080/"
        },
        "id": "xeSer6j0ZG82",
        "outputId": "db6a78ce-f1ac-4828-d083-c85726493849"
      },
      "execution_count": null,
      "outputs": [
        {
          "output_type": "stream",
          "name": "stdout",
          "text": [
            "Enter first number: 12\n",
            "Enter second number: 12\n",
            "24\n"
          ]
        }
      ]
    },
    {
      "cell_type": "markdown",
      "source": [
        "***changing data type***"
      ],
      "metadata": {
        "id": "67eRQfBnb-YT"
      }
    },
    {
      "cell_type": "code",
      "source": [
        "num = 5\n",
        "print(float(num))\n"
      ],
      "metadata": {
        "colab": {
          "base_uri": "https://localhost:8080/"
        },
        "id": "TBSQJ720ZyK7",
        "outputId": "8caf67c5-47cd-4b94-8809-4fd90ce54775"
      },
      "execution_count": null,
      "outputs": [
        {
          "output_type": "stream",
          "name": "stdout",
          "text": [
            "5.0\n"
          ]
        }
      ]
    },
    {
      "cell_type": "markdown",
      "source": [
        "***Data Type in python***\n",
        "1.   Integer\n",
        "2.   Float Point\n",
        "3.   Complex\n",
        "4.   Boolean\n",
        "5.   String"
      ],
      "metadata": {
        "id": "Atroerggceg_"
      }
    },
    {
      "cell_type": "code",
      "source": [
        "# interger\n",
        "a = 10\n",
        "print(a)\n",
        "type(a)"
      ],
      "metadata": {
        "id": "bI7UMy6Actkk",
        "colab": {
          "base_uri": "https://localhost:8080/"
        },
        "outputId": "2a5f9fde-b7d4-492c-a60f-e059c0594015"
      },
      "execution_count": null,
      "outputs": [
        {
          "output_type": "stream",
          "name": "stdout",
          "text": [
            "10\n"
          ]
        },
        {
          "output_type": "execute_result",
          "data": {
            "text/plain": [
              "int"
            ]
          },
          "metadata": {},
          "execution_count": 2
        }
      ]
    },
    {
      "cell_type": "code",
      "source": [
        "# float\n",
        "a = 10.0\n",
        "print(a)\n",
        "type(a)"
      ],
      "metadata": {
        "colab": {
          "base_uri": "https://localhost:8080/"
        },
        "id": "qA9vxtHhHulO",
        "outputId": "a1e80c0a-22de-41fc-9901-bb954be2b885"
      },
      "execution_count": null,
      "outputs": [
        {
          "output_type": "stream",
          "name": "stdout",
          "text": [
            "10.0\n"
          ]
        },
        {
          "output_type": "execute_result",
          "data": {
            "text/plain": [
              "float"
            ]
          },
          "metadata": {},
          "execution_count": 4
        }
      ]
    },
    {
      "cell_type": "code",
      "source": [
        "# complex\n",
        "sum = 3 + 4j\n",
        "print(sum)\n",
        "type(sum)"
      ],
      "metadata": {
        "colab": {
          "base_uri": "https://localhost:8080/"
        },
        "id": "npXdLYQJHFXu",
        "outputId": "6bd886ae-973b-43fd-df3c-f81c3cc1d42f"
      },
      "execution_count": null,
      "outputs": [
        {
          "output_type": "stream",
          "name": "stdout",
          "text": [
            "(3+4j)\n"
          ]
        },
        {
          "output_type": "execute_result",
          "data": {
            "text/plain": [
              "complex"
            ]
          },
          "metadata": {},
          "execution_count": 3
        }
      ]
    },
    {
      "cell_type": "markdown",
      "source": [
        "***conversion of one data type to another***"
      ],
      "metadata": {
        "id": "rJTgCArSIKq9"
      }
    },
    {
      "cell_type": "code",
      "source": [
        "n = 10\n",
        "print(n)\n",
        "type(n)"
      ],
      "metadata": {
        "colab": {
          "base_uri": "https://localhost:8080/"
        },
        "id": "51-hK4FDIQ3L",
        "outputId": "646b4916-43b9-4313-ab17-dc2ca20705e5"
      },
      "execution_count": null,
      "outputs": [
        {
          "output_type": "stream",
          "name": "stdout",
          "text": [
            "10\n"
          ]
        },
        {
          "output_type": "execute_result",
          "data": {
            "text/plain": [
              "int"
            ]
          },
          "metadata": {},
          "execution_count": 13
        }
      ]
    },
    {
      "cell_type": "code",
      "source": [
        "y = float(n)\n",
        "print(y)\n",
        "type(y)"
      ],
      "metadata": {
        "colab": {
          "base_uri": "https://localhost:8080/"
        },
        "id": "yfpMyngoJBfB",
        "outputId": "af45b67e-9d20-4b74-c1ae-5d6aec827b61"
      },
      "execution_count": null,
      "outputs": [
        {
          "output_type": "stream",
          "name": "stdout",
          "text": [
            "10.0\n"
          ]
        },
        {
          "output_type": "execute_result",
          "data": {
            "text/plain": [
              "float"
            ]
          },
          "metadata": {},
          "execution_count": 14
        }
      ]
    },
    {
      "cell_type": "markdown",
      "source": [
        "***Boolean***"
      ],
      "metadata": {
        "id": "WwmcbWbZJ5YI"
      }
    },
    {
      "cell_type": "code",
      "source": [
        "a = True\n",
        "print(a)\n",
        "type(a)"
      ],
      "metadata": {
        "colab": {
          "base_uri": "https://localhost:8080/"
        },
        "id": "znaKqj1-JCMl",
        "outputId": "793e5dda-1a2b-4564-8581-73fd86fef585"
      },
      "execution_count": null,
      "outputs": [
        {
          "output_type": "stream",
          "name": "stdout",
          "text": [
            "True\n"
          ]
        },
        {
          "output_type": "execute_result",
          "data": {
            "text/plain": [
              "bool"
            ]
          },
          "metadata": {},
          "execution_count": 16
        }
      ]
    },
    {
      "cell_type": "code",
      "source": [
        "a = 10 > 12\n",
        "print(a)\n",
        "type(a)"
      ],
      "metadata": {
        "colab": {
          "base_uri": "https://localhost:8080/"
        },
        "id": "ZsfoObm3J_3C",
        "outputId": "cc25772e-981d-4107-e8b3-4dff0ddec481"
      },
      "execution_count": null,
      "outputs": [
        {
          "output_type": "stream",
          "name": "stdout",
          "text": [
            "False\n"
          ]
        },
        {
          "output_type": "execute_result",
          "data": {
            "text/plain": [
              "bool"
            ]
          },
          "metadata": {},
          "execution_count": 18
        }
      ]
    },
    {
      "cell_type": "markdown",
      "source": [
        "***String***"
      ],
      "metadata": {
        "id": "boIZfr9LKvS6"
      }
    },
    {
      "cell_type": "code",
      "source": [
        "my_string = 'Machine Learning'\n",
        "print(my_string)\n",
        "type(my_string)"
      ],
      "metadata": {
        "colab": {
          "base_uri": "https://localhost:8080/"
        },
        "id": "vog2kXmHKNMH",
        "outputId": "e7e4f726-8293-4446-bb4e-b25f8317be19"
      },
      "execution_count": null,
      "outputs": [
        {
          "output_type": "stream",
          "name": "stdout",
          "text": [
            "Machine Learning\n"
          ]
        },
        {
          "output_type": "execute_result",
          "data": {
            "text/plain": [
              "str"
            ]
          },
          "metadata": {},
          "execution_count": 19
        }
      ]
    },
    {
      "cell_type": "markdown",
      "source": [
        "***Slicing***"
      ],
      "metadata": {
        "id": "IF3pe4HNK-47"
      }
    },
    {
      "cell_type": "code",
      "source": [
        "new_string = 'Programming'\n",
        "print(new_string[0 : 6]) #value from index 0 to 6-1 will be sliced\n"
      ],
      "metadata": {
        "colab": {
          "base_uri": "https://localhost:8080/"
        },
        "id": "r70i8l6iLBYI",
        "outputId": "51fe7175-4694-4da6-f1ac-df28c7020495"
      },
      "execution_count": null,
      "outputs": [
        {
          "output_type": "stream",
          "name": "stdout",
          "text": [
            "Progra\n"
          ]
        }
      ]
    },
    {
      "cell_type": "code",
      "source": [
        "#step\n",
        "new_string = 'Programming'\n",
        "print(new_string[0 : 10 : 2]) #value from index 0 to 6-1 will be sliced with step 2"
      ],
      "metadata": {
        "colab": {
          "base_uri": "https://localhost:8080/"
        },
        "id": "-9XkeFPhMiXy",
        "outputId": "d53b669c-6fef-421e-9b3d-0fffa944d157"
      },
      "execution_count": null,
      "outputs": [
        {
          "output_type": "stream",
          "name": "stdout",
          "text": [
            "Pormi\n"
          ]
        }
      ]
    },
    {
      "cell_type": "markdown",
      "source": [
        "***String concatenation***"
      ],
      "metadata": {
        "id": "6CJ4Nh6lNRvm"
      }
    },
    {
      "cell_type": "code",
      "source": [
        "word_one = 'Machine '\n",
        "word_two = 'Learning'\n",
        "\n",
        "print(word_one + word_two)\n"
      ],
      "metadata": {
        "colab": {
          "base_uri": "https://localhost:8080/"
        },
        "id": "tWsEIq9TNZH-",
        "outputId": "37e079c8-16e7-4ff1-d563-d9db3c31ba84"
      },
      "execution_count": null,
      "outputs": [
        {
          "output_type": "stream",
          "name": "stdout",
          "text": [
            "Machine Learning\n"
          ]
        }
      ]
    },
    {
      "cell_type": "markdown",
      "source": [
        "Type of objects in python\n",
        "\n",
        "\n",
        "1.   Immutable Objects\n",
        "2.   mutable Objects\n",
        "\n"
      ],
      "metadata": {
        "id": "0bhLhaFUPj7j"
      }
    },
    {
      "cell_type": "markdown",
      "source": [
        "Immutable Objects\n",
        "1. Int\n",
        "2. Float\n",
        "3. String\n",
        "4. bool\n",
        "5. tuple\n",
        "\n",
        "\n",
        "\n"
      ],
      "metadata": {
        "id": "9aUelU85SFWa"
      }
    },
    {
      "cell_type": "markdown",
      "source": [
        "Mutable Objects\n",
        "1. List\n",
        "2. Set\n",
        "3. Dictionary"
      ],
      "metadata": {
        "id": "ZN7ovG9xSj8x"
      }
    },
    {
      "cell_type": "markdown",
      "source": [
        "List"
      ],
      "metadata": {
        "id": "yh9s2uh8TNiT"
      }
    },
    {
      "cell_type": "code",
      "source": [
        "# list should be enclosed in square bracket\n",
        "# having multiple values and can store multiple data type\n",
        "my_list = [1,2,3,4,5,6]\n",
        "print(my_list)\n",
        "type(my_list)"
      ],
      "metadata": {
        "colab": {
          "base_uri": "https://localhost:8080/"
        },
        "id": "mG0EweGYSDAK",
        "outputId": "49cb1771-f352-40c4-e5b2-22d48d8264e6"
      },
      "execution_count": null,
      "outputs": [
        {
          "output_type": "stream",
          "name": "stdout",
          "text": [
            "[1, 2, 3, 4, 5, 6]\n"
          ]
        },
        {
          "output_type": "execute_result",
          "data": {
            "text/plain": [
              "list"
            ]
          },
          "metadata": {},
          "execution_count": 28
        }
      ]
    },
    {
      "cell_type": "code",
      "source": [
        "# can store mltiple data type\n",
        "\n",
        "multipe_list = [1, 2.1, 'Machine', True]\n",
        "print(multipe_list)\n",
        "type(multipe_list)"
      ],
      "metadata": {
        "colab": {
          "base_uri": "https://localhost:8080/"
        },
        "id": "fGIrDW4YUONQ",
        "outputId": "ec917804-c1d8-4685-90c1-583cc73dba17"
      },
      "execution_count": null,
      "outputs": [
        {
          "output_type": "stream",
          "name": "stdout",
          "text": [
            "[1, 2.1, 'Machine', True]\n"
          ]
        },
        {
          "output_type": "execute_result",
          "data": {
            "text/plain": [
              "list"
            ]
          },
          "metadata": {},
          "execution_count": 31
        }
      ]
    },
    {
      "cell_type": "markdown",
      "source": [
        "list are mutable it can be changed"
      ],
      "metadata": {
        "id": "OOUK4RcLVHdk"
      }
    },
    {
      "cell_type": "code",
      "source": [
        "# append is the function to add elements\n",
        "my_list = [1,2,3,4,5,6]\n",
        "my_list.append(10)\n",
        "print(my_list)"
      ],
      "metadata": {
        "colab": {
          "base_uri": "https://localhost:8080/"
        },
        "id": "NeWGQL2bU2pF",
        "outputId": "ef303511-e256-4bb9-bc27-841d45b1411f"
      },
      "execution_count": null,
      "outputs": [
        {
          "output_type": "stream",
          "name": "stdout",
          "text": [
            "[1, 2, 3, 4, 5, 6, 10]\n"
          ]
        }
      ]
    },
    {
      "cell_type": "code",
      "source": [
        "# print element of the list through index\n",
        "print(my_list[0])\n",
        "print(my_list[5])"
      ],
      "metadata": {
        "colab": {
          "base_uri": "https://localhost:8080/"
        },
        "id": "LQnEcS2vV1k5",
        "outputId": "49d47307-92a3-4663-f104-7297bdfb0d8b"
      },
      "execution_count": null,
      "outputs": [
        {
          "output_type": "stream",
          "name": "stdout",
          "text": [
            "1\n",
            "6\n"
          ]
        }
      ]
    },
    {
      "cell_type": "code",
      "source": [
        "# list allow duplicate value\n",
        "my_list = [1,2,3,4,5,6,1,2,3]\n",
        "print(my_list)\n",
        "# how to count the element inside the list\n",
        "print(len(my_list))"
      ],
      "metadata": {
        "colab": {
          "base_uri": "https://localhost:8080/"
        },
        "id": "pGtT2PcBWSki",
        "outputId": "f9fd114b-17f2-4c75-95f2-f49c69bfe13b"
      },
      "execution_count": null,
      "outputs": [
        {
          "output_type": "stream",
          "name": "stdout",
          "text": [
            "[1, 2, 3, 4, 5, 6, 1, 2, 3]\n",
            "9\n"
          ]
        }
      ]
    },
    {
      "cell_type": "code",
      "source": [
        "# empty list and than add a element\n",
        "my_list= []\n",
        "print(my_list)\n",
        "my_list.append(10)\n",
        "print(my_list)"
      ],
      "metadata": {
        "colab": {
          "base_uri": "https://localhost:8080/"
        },
        "id": "Nbp9LS9baktE",
        "outputId": "ec213e20-499f-427d-e12c-6e05a657a679"
      },
      "execution_count": null,
      "outputs": [
        {
          "output_type": "stream",
          "name": "stdout",
          "text": [
            "[]\n",
            "[10]\n"
          ]
        }
      ]
    },
    {
      "cell_type": "code",
      "source": [
        "# Delete element to list\n",
        "my_list = [1,2,3,4]\n",
        "print(my_list)\n",
        "\n",
        "del my_list[2]\n",
        "print(my_list)"
      ],
      "metadata": {
        "colab": {
          "base_uri": "https://localhost:8080/"
        },
        "id": "qvgiMKv1dtuy",
        "outputId": "48d11f22-e8cb-467a-ba90-a7f9e2969f0f"
      },
      "execution_count": null,
      "outputs": [
        {
          "output_type": "stream",
          "name": "stdout",
          "text": [
            "[1, 2, 3, 4]\n",
            "[1, 2, 4]\n"
          ]
        }
      ]
    },
    {
      "cell_type": "markdown",
      "source": [
        "***Tuple***"
      ],
      "metadata": {
        "id": "OIRKTMopByPM"
      }
    },
    {
      "cell_type": "code",
      "source": [
        "tuple_1 = (1,2,3,4,5)\n",
        "print(tuple_1)\n",
        "type(tuple_1)"
      ],
      "metadata": {
        "colab": {
          "base_uri": "https://localhost:8080/"
        },
        "id": "uVTNsXCae439",
        "outputId": "c6591bf4-712a-431e-bea3-f2900bab5ae4"
      },
      "execution_count": null,
      "outputs": [
        {
          "output_type": "stream",
          "name": "stdout",
          "text": [
            "(1, 2, 3, 4, 5)\n"
          ]
        },
        {
          "output_type": "execute_result",
          "data": {
            "text/plain": [
              "tuple"
            ]
          },
          "metadata": {},
          "execution_count": 9
        }
      ]
    },
    {
      "cell_type": "code",
      "source": [
        "#typle allow multiple data type\n",
        "tuple_2 = (1,2,3, 'Machine Learning', 6.8)\n",
        "print(tuple_2)\n",
        "type(tuple_2)"
      ],
      "metadata": {
        "colab": {
          "base_uri": "https://localhost:8080/"
        },
        "id": "R2w5KPdQjqYX",
        "outputId": "4040a024-3c17-4d77-8119-9e4da8c5d77b"
      },
      "execution_count": null,
      "outputs": [
        {
          "output_type": "stream",
          "name": "stdout",
          "text": [
            "(1, 2, 3, 'Machine Learning', 6.8)\n"
          ]
        },
        {
          "output_type": "execute_result",
          "data": {
            "text/plain": [
              "tuple"
            ]
          },
          "metadata": {},
          "execution_count": 8
        }
      ]
    },
    {
      "cell_type": "code",
      "source": [
        "# convert list to typle\n",
        "llist = [1,2,3,4,5,6,7,7]\n",
        "print(llist)\n",
        "\n",
        "ttuple = tuple(llist)\n",
        "print(ttuple)\n",
        "type(ttuple)"
      ],
      "metadata": {
        "colab": {
          "base_uri": "https://localhost:8080/"
        },
        "id": "ilGBoHh2lIzi",
        "outputId": "8bca114c-230d-4105-bf99-236b4dbad7e8"
      },
      "execution_count": null,
      "outputs": [
        {
          "output_type": "stream",
          "name": "stdout",
          "text": [
            "[1, 2, 3, 4, 5, 6, 7, 7]\n",
            "(1, 2, 3, 4, 5, 6, 7, 7)\n"
          ]
        },
        {
          "output_type": "execute_result",
          "data": {
            "text/plain": [
              "tuple"
            ]
          },
          "metadata": {},
          "execution_count": 11
        }
      ]
    },
    {
      "cell_type": "code",
      "source": [
        "#printing the value of tuple through indexing\n",
        "t = [1,2,3,4,5,6,7,7]\n",
        "print(t[1])\n",
        "print(t[2])"
      ],
      "metadata": {
        "colab": {
          "base_uri": "https://localhost:8080/"
        },
        "id": "PFonuoGelL0C",
        "outputId": "9041b553-67b7-4908-8182-6e223ace5f1c"
      },
      "execution_count": null,
      "outputs": [
        {
          "output_type": "stream",
          "name": "stdout",
          "text": [
            "2\n",
            "3\n"
          ]
        }
      ]
    },
    {
      "cell_type": "markdown",
      "source": [
        "***Set***"
      ],
      "metadata": {
        "id": "T8Zba425oGHq"
      }
    },
    {
      "cell_type": "code",
      "source": [
        "# set is Mutable\n",
        "# dont allow duplicat value\n",
        "# dont call value through indexing\n",
        "my_set = {1,2,3,4,5}\n",
        "print(my_set)\n",
        "type(my_set)"
      ],
      "metadata": {
        "colab": {
          "base_uri": "https://localhost:8080/"
        },
        "id": "Bf8rPZS8msRA",
        "outputId": "2db2ace4-a3ee-4dcd-ae73-947d41c9749f"
      },
      "execution_count": null,
      "outputs": [
        {
          "output_type": "stream",
          "name": "stdout",
          "text": [
            "{1, 2, 3, 4, 5}\n"
          ]
        },
        {
          "output_type": "execute_result",
          "data": {
            "text/plain": [
              "set"
            ]
          },
          "metadata": {},
          "execution_count": 15
        }
      ]
    },
    {
      "cell_type": "code",
      "source": [
        "# convert list to a set\n",
        "li = [1,2,3,4,5,6,7,7]\n",
        "print(li)\n",
        "\n",
        "x = set(li)\n",
        "print(x)"
      ],
      "metadata": {
        "colab": {
          "base_uri": "https://localhost:8080/"
        },
        "id": "DgyxxQlEo4HB",
        "outputId": "5695c01b-5f5d-4e5c-f875-9a1af30ff500"
      },
      "execution_count": null,
      "outputs": [
        {
          "output_type": "stream",
          "name": "stdout",
          "text": [
            "[1, 2, 3, 4, 5, 6, 7, 7]\n",
            "{1, 2, 3, 4, 5, 6, 7}\n"
          ]
        }
      ]
    },
    {
      "cell_type": "markdown",
      "source": [
        "***Dictionary***"
      ],
      "metadata": {
        "id": "vDh7p50Epig_"
      }
    },
    {
      "cell_type": "code",
      "source": [
        "# contain key value pair\n",
        "# doesnt allow duplicate or repeated value\n",
        "# in list or tuple we call element through there index but in dictonary we call it through key\n",
        "my_dict = {\"name\" : \"Shahid\", \"age\" : 23, \"city\": \"Swabi\"}\n",
        "print(my_dict)\n",
        "type(my_dict)\n",
        "\n",
        "\n",
        "# now how to call it through key\n",
        "\n",
        "print(my_dict['name'])\n",
        "print(my_dict['age'])\n",
        "print(my_dict['city'])"
      ],
      "metadata": {
        "colab": {
          "base_uri": "https://localhost:8080/"
        },
        "id": "y5pnEX_ko8qP",
        "outputId": "8a650d89-e452-4cff-d4f1-6e14f07ac02b"
      },
      "execution_count": null,
      "outputs": [
        {
          "output_type": "stream",
          "name": "stdout",
          "text": [
            "{'name': 'Shahid', 'age': 24, 'city': 'Swabi'}\n",
            "Shahid\n",
            "24\n",
            "Swabi\n"
          ]
        }
      ]
    },
    {
      "cell_type": "markdown",
      "source": [
        "***Operators in python***\n",
        "\n",
        "Arithmetic operators,\n",
        "\n",
        "Assignment operators,\n",
        "\n",
        "Comparison operators,\n",
        "\n",
        "Logical operators,\n",
        "\n",
        "Identity operators,\n",
        "\n",
        "Membership operators"
      ],
      "metadata": {
        "id": "yptjc0RYg8ww"
      }
    },
    {
      "cell_type": "markdown",
      "source": [
        "***Arihematic Operators***\n",
        "Arithmetic operators are symbols used in programming and mathematics to perform basic arithmetic operations on numerical values. These operators allow you to manipulate numeric data in various ways."
      ],
      "metadata": {
        "id": "8DFy6pR1m_9e"
      }
    },
    {
      "cell_type": "code",
      "source": [
        "num_1 = 20\n",
        "num_2 = 10\n",
        "\n",
        "#addition\n",
        "sum = num_1 + num_2\n",
        "print(\"sum: \",sum)\n",
        "\n",
        "#substraction\n",
        "sub = num_1 - num_2\n",
        "print(\"substraction: \",sub)\n",
        "\n",
        "#multiplaction\n",
        "product = num_1 * num_2\n",
        "print(\"multiplaction: \",product)\n",
        "\n",
        "#division\n",
        "div = num_1 / num_2\n",
        "print(\"division: \",div)\n",
        "\n",
        "#exponent\n",
        "exp = num_1**num_2\n",
        "print(\"Exponent: \",exp)\n",
        "\n",
        "#modules\n",
        "mod = num_1 % num_2\n",
        "print(\"Modules: \",mod)\n",
        "\n"
      ],
      "metadata": {
        "colab": {
          "base_uri": "https://localhost:8080/",
          "height": 0
        },
        "id": "CXMCI6I-hASg",
        "outputId": "ef1c6198-c29f-4149-80d9-4a558dbaf966"
      },
      "execution_count": 7,
      "outputs": [
        {
          "output_type": "stream",
          "name": "stdout",
          "text": [
            "sum:  30\n",
            "substraction:  10\n",
            "multiplaction:  200\n",
            "division:  2.0\n",
            "Exponent:  10240000000000\n",
            "Modules:  0\n"
          ]
        }
      ]
    },
    {
      "cell_type": "markdown",
      "source": [
        "Assignment operator"
      ],
      "metadata": {
        "id": "u57xxZg3qEUX"
      }
    },
    {
      "cell_type": "markdown",
      "source": [
        "+=\n",
        "\n",
        "-=\n",
        "\n",
        "*=\n",
        "\n",
        "/=\n",
        "\n",
        "**=\n",
        "\n",
        "%="
      ],
      "metadata": {
        "id": "rI8-0fbOsPMZ"
      }
    },
    {
      "cell_type": "code",
      "source": [
        "#assignment operator is used to asign value to varible\n",
        "# (=) is used for assign and (==) is used for equalto\n",
        "val = 10 # here we asign 10 to variable\n",
        "print(val)\n"
      ],
      "metadata": {
        "colab": {
          "base_uri": "https://localhost:8080/",
          "height": 0
        },
        "id": "npOCDLQenYPU",
        "outputId": "fd29885e-64c2-4a89-a67a-e6fe788299fa"
      },
      "execution_count": 9,
      "outputs": [
        {
          "output_type": "stream",
          "name": "stdout",
          "text": [
            "10\n"
          ]
        }
      ]
    },
    {
      "cell_type": "code",
      "source": [
        "a = 5\n",
        "a += 5 # a = a + 5\n",
        "print(a)\n",
        "\n",
        "b = 5\n",
        "b -= 1 # b = b - 1\n",
        "print(b)"
      ],
      "metadata": {
        "colab": {
          "base_uri": "https://localhost:8080/",
          "height": 0
        },
        "id": "rebJIKvlqOQ-",
        "outputId": "742b215f-448d-4402-acf1-53fe782438cb"
      },
      "execution_count": 12,
      "outputs": [
        {
          "output_type": "stream",
          "name": "stdout",
          "text": [
            "10\n",
            "4\n"
          ]
        }
      ]
    },
    {
      "cell_type": "markdown",
      "source": [
        "***Comparsion operators***"
      ],
      "metadata": {
        "id": "pEGXWTjhshH_"
      }
    },
    {
      "cell_type": "code",
      "source": [
        "a = 10\n",
        "b = 20\n",
        "\n",
        "print(a == b) # equal to\n",
        "print(a != b) # not equal to\n",
        "print(a > b) # greater than\n",
        "print(a < b) # less than\n",
        "print(a >= b) # greater than or equal to\n",
        "print(a <= b) # less than or equal to"
      ],
      "metadata": {
        "colab": {
          "base_uri": "https://localhost:8080/",
          "height": 0
        },
        "id": "tHw2wMg-sfqx",
        "outputId": "a90b23f9-b8eb-4866-ed89-1838cf8371ca"
      },
      "execution_count": 15,
      "outputs": [
        {
          "output_type": "stream",
          "name": "stdout",
          "text": [
            "False\n",
            "True\n",
            "False\n",
            "True\n",
            "False\n",
            "True\n"
          ]
        }
      ]
    },
    {
      "cell_type": "markdown",
      "source": [
        "***Logical Operators***\n",
        "\n",
        "there are three logical operator\n",
        "\n",
        "and\n",
        "\n",
        "or\n",
        "\n",
        "not"
      ],
      "metadata": {
        "id": "0yJNmopYuSjQ"
      }
    },
    {
      "cell_type": "code",
      "source": [
        "a = 10\n",
        "\n",
        "print( a > 5 and a < 11)  # both value must be true\n",
        "print( a > 5 or a < 11)  # both value must be true\n",
        "print( not( a > 5 and a < 11)) # inverse the value\n"
      ],
      "metadata": {
        "colab": {
          "base_uri": "https://localhost:8080/",
          "height": 0
        },
        "id": "f3H4UeliuW2p",
        "outputId": "952f3eda-76f1-4d2c-962a-4c7e146a017a"
      },
      "execution_count": 19,
      "outputs": [
        {
          "output_type": "stream",
          "name": "stdout",
          "text": [
            "True\n",
            "True\n",
            "False\n"
          ]
        }
      ]
    },
    {
      "cell_type": "markdown",
      "source": [
        "***Identity Operators***\n",
        "\n",
        "is\n",
        "\n",
        "is not"
      ],
      "metadata": {
        "id": "_Un0Ls2cwH9r"
      }
    },
    {
      "cell_type": "code",
      "source": [
        "a = 51\n",
        "b = 5\n",
        "print(a is b)\n",
        "\n",
        "\n",
        "y = 10\n",
        "z = 10\n",
        "print(y is not z)"
      ],
      "metadata": {
        "colab": {
          "base_uri": "https://localhost:8080/",
          "height": 0
        },
        "id": "esD0a0t6wGu9",
        "outputId": "2a5f3163-5c47-425f-9715-f4374f693727"
      },
      "execution_count": 24,
      "outputs": [
        {
          "output_type": "stream",
          "name": "stdout",
          "text": [
            "False\n",
            "False\n"
          ]
        }
      ]
    },
    {
      "cell_type": "markdown",
      "source": [
        "***Membership Operator***\n",
        "\n",
        "in\n",
        "\n",
        "not in"
      ],
      "metadata": {
        "id": "DDytGux0xXMb"
      }
    },
    {
      "cell_type": "code",
      "source": [
        "a = 3\n",
        "b = 66\n",
        "\n",
        "listt = [1,2,3,4,5,6,7,8,9]\n",
        "print(b in listt)\n",
        "\n",
        "\n",
        "listt = [1,2,3,4,5,6,7,8,9]\n",
        "print(a not in listt)"
      ],
      "metadata": {
        "colab": {
          "base_uri": "https://localhost:8080/",
          "height": 0
        },
        "id": "1Aorf7BjxShB",
        "outputId": "d4579239-59aa-4af6-ce4d-c7125c51e5ed"
      },
      "execution_count": 27,
      "outputs": [
        {
          "output_type": "stream",
          "name": "stdout",
          "text": [
            "False\n",
            "False\n"
          ]
        }
      ]
    },
    {
      "cell_type": "markdown",
      "source": [
        "***conditional*** ***statements***"
      ],
      "metadata": {
        "id": "FDh1f8YhybeA"
      }
    },
    {
      "cell_type": "code",
      "source": [
        "# if else statement\n",
        "\n",
        "a = 40\n",
        "b = 55\n",
        "\n",
        "if(a > b):\n",
        "  print(\"a is greater than b\")\n",
        "else:\n",
        "  print(\"b is greater number\")"
      ],
      "metadata": {
        "colab": {
          "base_uri": "https://localhost:8080/",
          "height": 0
        },
        "id": "42Cdup4myaPN",
        "outputId": "7af27fbc-8d19-4fca-f9d7-8f84386cc7ce"
      },
      "execution_count": 29,
      "outputs": [
        {
          "output_type": "stream",
          "name": "stdout",
          "text": [
            "b is greater number\n"
          ]
        }
      ]
    },
    {
      "cell_type": "code",
      "source": [
        "# lets take the value from the users\n",
        "\n",
        "first_number = int(input(\"Enter first number: \"))\n",
        "second_number = int(input(\"Enter second number: \"))\n",
        "\n",
        "if(first_number > second_number):\n",
        "  print(\"first_number is greater than second number\")\n",
        "else:\n",
        "  print(\"second_number is greater than first number\")"
      ],
      "metadata": {
        "colab": {
          "base_uri": "https://localhost:8080/",
          "height": 0
        },
        "id": "pYXVuOrw1nh7",
        "outputId": "420783eb-5a72-4fae-c253-a534a5129176"
      },
      "execution_count": 33,
      "outputs": [
        {
          "output_type": "stream",
          "name": "stdout",
          "text": [
            "Enter first number: 100\n",
            "Enter second number: 44\n",
            "first_number is greater than second number\n"
          ]
        }
      ]
    },
    {
      "cell_type": "code",
      "source": [
        "# if,elif,else statement\n",
        "\n",
        "a = 20\n",
        "b = 110\n",
        "c = 50\n",
        "\n",
        "if(b<a>c):\n",
        "  print(a, \"is greatest number\")\n",
        "elif(a<b>c):\n",
        "  print(b, \"is greatest number\")\n",
        "else:\n",
        "  print(c, \"is greatest number\")\n"
      ],
      "metadata": {
        "colab": {
          "base_uri": "https://localhost:8080/",
          "height": 0
        },
        "id": "QnJPo6xM1rbh",
        "outputId": "7b16cb39-cb95-46ae-e31d-f36a536c61b3"
      },
      "execution_count": 3,
      "outputs": [
        {
          "output_type": "stream",
          "name": "stdout",
          "text": [
            "110 is greatest number\n"
          ]
        }
      ]
    },
    {
      "cell_type": "markdown",
      "source": [
        "***Nested if Statement***"
      ],
      "metadata": {
        "id": "_ecG1C2x21u-"
      }
    },
    {
      "cell_type": "code",
      "source": [
        "a = 120\n",
        "b = 140\n",
        "c = 70\n",
        "\n",
        "if(a>b):\n",
        "  if(a>c):\n",
        "    print(\"a is the greatest number\")\n",
        "  else:\n",
        "    print(\"c is the greatest number\")\n",
        "else:\n",
        "  if(b>c):\n",
        "    print(\"b is the greatest number\")\n",
        "  else:\n",
        "    print(\"c is the greatest number\")\n"
      ],
      "metadata": {
        "colab": {
          "base_uri": "https://localhost:8080/",
          "height": 0
        },
        "id": "BFHCQfcu4vFl",
        "outputId": "b9a68bb4-ec64-4351-824a-6ae47cfe97da"
      },
      "execution_count": 1,
      "outputs": [
        {
          "output_type": "stream",
          "name": "stdout",
          "text": [
            "b is the greatest number\n"
          ]
        }
      ]
    },
    {
      "cell_type": "markdown",
      "source": [
        "***Loops***"
      ],
      "metadata": {
        "id": "MA-cOm2qRZew"
      }
    },
    {
      "cell_type": "code",
      "source": [
        "# not recommended way\n",
        "laptop1 = int(input(\"Enter laptop price: \"))\n",
        "laptop2 = int(input(\"Enter laptop price: \"))\n",
        "laptop3 = int(input(\"Enter laptop price: \"))\n",
        "laptop4 = int(input(\"Enter laptop price: \"))\n",
        "laptop5 = int(input(\"Enter laptop price: \"))"
      ],
      "metadata": {
        "colab": {
          "base_uri": "https://localhost:8080/",
          "height": 0
        },
        "id": "GEuIInKNRYxt",
        "outputId": "7a00eaa6-c18c-44a7-e96e-cb6c329ef43b"
      },
      "execution_count": 3,
      "outputs": [
        {
          "name": "stdout",
          "output_type": "stream",
          "text": [
            "Enter laptop price: 2000\n",
            "Enter laptop price: 3000\n",
            "Enter laptop price: 133232\n",
            "Enter laptop price: 232323\n",
            "Enter laptop price: 232323\n"
          ]
        }
      ]
    },
    {
      "cell_type": "code",
      "source": [
        "# now here use loop for the above snipet\n",
        "for i in range(5):\n",
        "  laptop_price = int(input(\"Enter laptop price: \"))"
      ],
      "metadata": {
        "colab": {
          "base_uri": "https://localhost:8080/",
          "height": 0
        },
        "id": "Q1JBuTZfSN92",
        "outputId": "ef41aa50-4de5-46c2-ccbb-7958c52d7aa4"
      },
      "execution_count": 6,
      "outputs": [
        {
          "name": "stdout",
          "output_type": "stream",
          "text": [
            "Enter laptop price: 2323232\n",
            "Enter laptop price: 3323232\n",
            "Enter laptop price: 44434343\n",
            "Enter laptop price: 34323231\n",
            "Enter laptop price: 34545242\n"
          ]
        }
      ]
    },
    {
      "cell_type": "code",
      "source": [
        "#loops in list\n",
        "\n",
        "l = [1,2,3,4,5,6,7]\n",
        "\n",
        "#print(l[0])\n",
        "#print(l[1])\n",
        "#print(l[2])\n",
        "#print(l[3])\n",
        "#print(l[4])\n",
        "#print(l[5])\n",
        "\n",
        "#now do in simple way\n",
        "for i in l:\n",
        "  print(i)\n",
        "\n",
        "#both have same result"
      ],
      "metadata": {
        "colab": {
          "base_uri": "https://localhost:8080/",
          "height": 0
        },
        "id": "K2VHoCffSvyE",
        "outputId": "cfbd6621-a4b2-436e-e408-787b8ca56ac5"
      },
      "execution_count": 3,
      "outputs": [
        {
          "output_type": "stream",
          "name": "stdout",
          "text": [
            "1\n",
            "2\n",
            "3\n",
            "4\n",
            "5\n",
            "6\n",
            "7\n"
          ]
        }
      ]
    },
    {
      "cell_type": "markdown",
      "source": [
        "***While loop***"
      ],
      "metadata": {
        "id": "LpvmgcP7vKiz"
      }
    },
    {
      "cell_type": "code",
      "source": [
        "#Condition\n",
        "  #Statement\n",
        "\n",
        "i = 0\n",
        "while i < 10:\n",
        "  print(i)\n",
        "  i += 1"
      ],
      "metadata": {
        "colab": {
          "base_uri": "https://localhost:8080/",
          "height": 0
        },
        "id": "fEa_saFvtbh3",
        "outputId": "464cc553-b80b-44df-a503-fb7ae640b8d5"
      },
      "execution_count": 3,
      "outputs": [
        {
          "output_type": "stream",
          "name": "stdout",
          "text": [
            "0\n",
            "1\n",
            "2\n",
            "3\n",
            "4\n",
            "5\n",
            "6\n",
            "7\n",
            "8\n",
            "9\n"
          ]
        }
      ]
    },
    {
      "cell_type": "markdown",
      "source": [
        "***Function***\n",
        "\n",
        "Function is a block of code that can be reused again and again"
      ],
      "metadata": {
        "id": "3Sot2BYAwWJ0"
      }
    },
    {
      "cell_type": "markdown",
      "source": [
        "***Example: Factorail of number:***\n",
        "\n",
        "Factorail of a number is the product of all the positive integers less than or equal to the given number"
      ],
      "metadata": {
        "id": "O-TTbyM1xP-I"
      }
    },
    {
      "cell_type": "code",
      "source": [
        "# factorail of 5 = 5*4*3*2*1 = 120\n",
        "\n",
        "number = int(input(\"Enter the number to find factorail: \"))\n",
        "\n",
        "factorial = 1\n",
        "\n",
        "if number == 0:\n",
        "  print(\"The factorail of 0 is equal to 1\")\n",
        "\n",
        "else:\n",
        "  for i in range(1, number+1):\n",
        "    factorial = factorial*i\n",
        "  print(\"THe factorail of \",number,\"is \",factorial)\n"
      ],
      "metadata": {
        "colab": {
          "base_uri": "https://localhost:8080/",
          "height": 0
        },
        "id": "T2zlJvYzwUzv",
        "outputId": "716ab969-ab9b-4e33-fd71-5c4046380ac3"
      },
      "execution_count": 9,
      "outputs": [
        {
          "output_type": "stream",
          "name": "stdout",
          "text": [
            "Enter the number to find factorail: 1\n",
            "THe factorail of  1 is  1\n"
          ]
        }
      ]
    },
    {
      "cell_type": "code",
      "source": [
        "#now lets create function from above factorail program\n",
        "def factorail_value(num):\n",
        "\n",
        "  factorial = 1\n",
        "\n",
        "  if num == 0:\n",
        "    return factorial\n",
        "\n",
        "  else:\n",
        "    for i in range(1, num+1):\n",
        "     factorial = factorial*i\n",
        "    return factorial"
      ],
      "metadata": {
        "id": "Grq4cO9K2FBZ"
      },
      "execution_count": 14,
      "outputs": []
    },
    {
      "cell_type": "code",
      "source": [
        "print(factorail_value(5))"
      ],
      "metadata": {
        "colab": {
          "base_uri": "https://localhost:8080/",
          "height": 0
        },
        "id": "W_rpcgxI2DnW",
        "outputId": "d9928da0-3164-41df-920f-df668cfbc7e2"
      },
      "execution_count": 15,
      "outputs": [
        {
          "output_type": "stream",
          "name": "stdout",
          "text": [
            "120\n"
          ]
        }
      ]
    }
  ]
}