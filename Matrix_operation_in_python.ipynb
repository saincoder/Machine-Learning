{
  "nbformat": 4,
  "nbformat_minor": 0,
  "metadata": {
    "colab": {
      "provenance": [],
      "authorship_tag": "ABX9TyPwoOpsLdcoiOMDAaOLHSPf",
      "include_colab_link": true
    },
    "kernelspec": {
      "name": "python3",
      "display_name": "Python 3"
    },
    "language_info": {
      "name": "python"
    }
  },
  "cells": [
    {
      "cell_type": "markdown",
      "metadata": {
        "id": "view-in-github",
        "colab_type": "text"
      },
      "source": [
        "<a href=\"https://colab.research.google.com/github/shaid03/Machine-Learning/blob/main/Matrix_operation_in_python.ipynb\" target=\"_parent\"><img src=\"https://colab.research.google.com/assets/colab-badge.svg\" alt=\"Open In Colab\"/></a>"
      ]
    },
    {
      "cell_type": "code",
      "execution_count": 1,
      "metadata": {
        "id": "mCwfV_6GTFAB"
      },
      "outputs": [],
      "source": [
        "# import libraries\n",
        "import numpy as np"
      ]
    },
    {
      "cell_type": "code",
      "source": [
        "A = np.array([[2,3],[4,7]])"
      ],
      "metadata": {
        "id": "WPzPFbkKZfUU"
      },
      "execution_count": 2,
      "outputs": []
    },
    {
      "cell_type": "code",
      "source": [
        "B = np.array([[6,7],[9,1]])"
      ],
      "metadata": {
        "id": "6MVNA3o3aHjp"
      },
      "execution_count": 3,
      "outputs": []
    },
    {
      "cell_type": "code",
      "source": [
        "print(A)"
      ],
      "metadata": {
        "colab": {
          "base_uri": "https://localhost:8080/"
        },
        "id": "QjImUl2PaOH-",
        "outputId": "3776d774-a17f-42e8-be5d-036f50b45e42"
      },
      "execution_count": 4,
      "outputs": [
        {
          "output_type": "stream",
          "name": "stdout",
          "text": [
            "[[2 3]\n",
            " [4 7]]\n"
          ]
        }
      ]
    },
    {
      "cell_type": "code",
      "source": [
        "print(B)"
      ],
      "metadata": {
        "colab": {
          "base_uri": "https://localhost:8080/"
        },
        "id": "E1N1RHMcaTxC",
        "outputId": "927f7cb8-e8a0-4ffc-a899-88fc6369d816"
      },
      "execution_count": 5,
      "outputs": [
        {
          "output_type": "stream",
          "name": "stdout",
          "text": [
            "[[6 7]\n",
            " [9 1]]\n"
          ]
        }
      ]
    },
    {
      "cell_type": "code",
      "source": [
        "A.shape"
      ],
      "metadata": {
        "colab": {
          "base_uri": "https://localhost:8080/"
        },
        "id": "_SLr_S__aUj3",
        "outputId": "0a6c9953-9ad0-4699-b94f-0268bdd3fb43"
      },
      "execution_count": 6,
      "outputs": [
        {
          "output_type": "execute_result",
          "data": {
            "text/plain": [
              "(2, 2)"
            ]
          },
          "metadata": {},
          "execution_count": 6
        }
      ]
    },
    {
      "cell_type": "code",
      "source": [
        "B.shape"
      ],
      "metadata": {
        "colab": {
          "base_uri": "https://localhost:8080/"
        },
        "id": "gg0mftqTae_q",
        "outputId": "6d662c0c-49d6-48d9-f5d5-4c5587b4fd83"
      },
      "execution_count": 7,
      "outputs": [
        {
          "output_type": "execute_result",
          "data": {
            "text/plain": [
              "(2, 2)"
            ]
          },
          "metadata": {},
          "execution_count": 7
        }
      ]
    },
    {
      "cell_type": "markdown",
      "source": [
        "Addition of two matrix"
      ],
      "metadata": {
        "id": "naC3TDr6a_vE"
      }
    },
    {
      "cell_type": "code",
      "source": [
        "sum = A + B"
      ],
      "metadata": {
        "id": "DZBu45pAaf1b"
      },
      "execution_count": 8,
      "outputs": []
    },
    {
      "cell_type": "code",
      "source": [
        "print(sum)"
      ],
      "metadata": {
        "colab": {
          "base_uri": "https://localhost:8080/"
        },
        "id": "wIecXv6obIEi",
        "outputId": "6cee8770-47b7-4492-ceab-8f28982e1a52"
      },
      "execution_count": 9,
      "outputs": [
        {
          "output_type": "stream",
          "name": "stdout",
          "text": [
            "[[ 8 10]\n",
            " [13  8]]\n"
          ]
        }
      ]
    },
    {
      "cell_type": "code",
      "source": [
        "# create a random matrix\n",
        "C = np.random.randint(100, size = (3,3))\n",
        "D = np.random.randint(100, size = (3,3))"
      ],
      "metadata": {
        "id": "oskLPE_rbJKg"
      },
      "execution_count": 10,
      "outputs": []
    },
    {
      "cell_type": "code",
      "source": [
        "print(C)"
      ],
      "metadata": {
        "colab": {
          "base_uri": "https://localhost:8080/"
        },
        "id": "8pHNxCX1crdX",
        "outputId": "a6937ac4-ed27-4f1b-8ce4-8aeb04798597"
      },
      "execution_count": 11,
      "outputs": [
        {
          "output_type": "stream",
          "name": "stdout",
          "text": [
            "[[12 17 86]\n",
            " [48 33 88]\n",
            " [99 65  6]]\n"
          ]
        }
      ]
    },
    {
      "cell_type": "code",
      "source": [
        "print(D)"
      ],
      "metadata": {
        "colab": {
          "base_uri": "https://localhost:8080/"
        },
        "id": "vIEI1ccictPG",
        "outputId": "6d60e154-c909-4de1-ab22-4ba2886c192a"
      },
      "execution_count": 12,
      "outputs": [
        {
          "output_type": "stream",
          "name": "stdout",
          "text": [
            "[[71 69 17]\n",
            " [ 3 51 85]\n",
            " [ 0  6 16]]\n"
          ]
        }
      ]
    },
    {
      "cell_type": "code",
      "source": [
        "C.shape"
      ],
      "metadata": {
        "colab": {
          "base_uri": "https://localhost:8080/"
        },
        "id": "zgJFwGfecuK4",
        "outputId": "e25ca30b-4fc0-4eb5-a683-afb860b0aca9"
      },
      "execution_count": 13,
      "outputs": [
        {
          "output_type": "execute_result",
          "data": {
            "text/plain": [
              "(3, 3)"
            ]
          },
          "metadata": {},
          "execution_count": 13
        }
      ]
    },
    {
      "cell_type": "code",
      "source": [
        "D.shape"
      ],
      "metadata": {
        "colab": {
          "base_uri": "https://localhost:8080/"
        },
        "id": "-1EAZbLHcv0V",
        "outputId": "cfc745cf-f49f-4d3e-a4d4-7084ce7cf8e8"
      },
      "execution_count": 14,
      "outputs": [
        {
          "output_type": "execute_result",
          "data": {
            "text/plain": [
              "(3, 3)"
            ]
          },
          "metadata": {},
          "execution_count": 14
        }
      ]
    },
    {
      "cell_type": "code",
      "source": [
        "sum = np.add(C,D)"
      ],
      "metadata": {
        "id": "2Ee_2E7zcwgK"
      },
      "execution_count": 15,
      "outputs": []
    },
    {
      "cell_type": "code",
      "source": [
        "print(sum)"
      ],
      "metadata": {
        "colab": {
          "base_uri": "https://localhost:8080/"
        },
        "id": "ZpPNamuAc1Xg",
        "outputId": "aeb1f8ac-b443-443a-a2b6-405a573e5976"
      },
      "execution_count": 16,
      "outputs": [
        {
          "output_type": "stream",
          "name": "stdout",
          "text": [
            "[[ 83  86 103]\n",
            " [ 51  84 173]\n",
            " [ 99  71  22]]\n"
          ]
        }
      ]
    },
    {
      "cell_type": "code",
      "source": [
        "# create a random matrix\n",
        "E = np.random.randint(100, size = (3,3))\n",
        "F = np.random.randint(100, size = (3,4))"
      ],
      "metadata": {
        "id": "jI1odyAtc3L7"
      },
      "execution_count": 17,
      "outputs": []
    },
    {
      "cell_type": "code",
      "source": [
        "sum = np.add(E,F)"
      ],
      "metadata": {
        "colab": {
          "base_uri": "https://localhost:8080/",
          "height": 141
        },
        "id": "4-6qZpW2exmV",
        "outputId": "ab30abff-64e8-4f16-dc6a-61d7e9572a5c"
      },
      "execution_count": 18,
      "outputs": [
        {
          "output_type": "error",
          "ename": "ValueError",
          "evalue": "operands could not be broadcast together with shapes (3,3) (3,4) ",
          "traceback": [
            "\u001b[0;31m---------------------------------------------------------------------------\u001b[0m",
            "\u001b[0;31mValueError\u001b[0m                                Traceback (most recent call last)",
            "\u001b[0;32m<ipython-input-18-a4a96a52caeb>\u001b[0m in \u001b[0;36m<cell line: 1>\u001b[0;34m()\u001b[0m\n\u001b[0;32m----> 1\u001b[0;31m \u001b[0msum\u001b[0m \u001b[0;34m=\u001b[0m \u001b[0mnp\u001b[0m\u001b[0;34m.\u001b[0m\u001b[0madd\u001b[0m\u001b[0;34m(\u001b[0m\u001b[0mE\u001b[0m\u001b[0;34m,\u001b[0m\u001b[0mF\u001b[0m\u001b[0;34m)\u001b[0m\u001b[0;34m\u001b[0m\u001b[0;34m\u001b[0m\u001b[0m\n\u001b[0m",
            "\u001b[0;31mValueError\u001b[0m: operands could not be broadcast together with shapes (3,3) (3,4) "
          ]
        }
      ]
    },
    {
      "cell_type": "markdown",
      "source": [
        "***Two matrices, can be added if they have the same shape***"
      ],
      "metadata": {
        "id": "_r3Hs4bwe46G"
      }
    },
    {
      "cell_type": "markdown",
      "source": [
        "***Matrix Subsraction***"
      ],
      "metadata": {
        "id": "Ly5gUjLTfOAF"
      }
    },
    {
      "cell_type": "code",
      "source": [
        "A = np.array([[81,6], [11,4]])\n",
        "B = np.array([[8,6], [1,41]])"
      ],
      "metadata": {
        "id": "zSXXEqxoe3af"
      },
      "execution_count": 19,
      "outputs": []
    },
    {
      "cell_type": "code",
      "source": [
        "print(A)"
      ],
      "metadata": {
        "colab": {
          "base_uri": "https://localhost:8080/"
        },
        "id": "i1xOUXexgAkd",
        "outputId": "9ea4c2a9-4b34-4e87-e460-58ba728cf972"
      },
      "execution_count": 20,
      "outputs": [
        {
          "output_type": "stream",
          "name": "stdout",
          "text": [
            "[[8 6]\n",
            " [1 4]]\n"
          ]
        }
      ]
    },
    {
      "cell_type": "code",
      "source": [
        "print(B)"
      ],
      "metadata": {
        "colab": {
          "base_uri": "https://localhost:8080/"
        },
        "id": "x_1074NyglGX",
        "outputId": "982a99a8-5b86-4794-ea21-226bb7ff46f2"
      },
      "execution_count": 21,
      "outputs": [
        {
          "output_type": "stream",
          "name": "stdout",
          "text": [
            "[[8 6]\n",
            " [1 4]]\n"
          ]
        }
      ]
    },
    {
      "cell_type": "code",
      "source": [
        "A.shape"
      ],
      "metadata": {
        "colab": {
          "base_uri": "https://localhost:8080/"
        },
        "id": "rG5o6nUsgl4z",
        "outputId": "27c7ef82-1217-45c7-dbe2-fce4cc038f0d"
      },
      "execution_count": 22,
      "outputs": [
        {
          "output_type": "execute_result",
          "data": {
            "text/plain": [
              "(2, 2)"
            ]
          },
          "metadata": {},
          "execution_count": 22
        }
      ]
    },
    {
      "cell_type": "code",
      "source": [
        "B.shape"
      ],
      "metadata": {
        "colab": {
          "base_uri": "https://localhost:8080/"
        },
        "id": "C5TZzhqXgm8s",
        "outputId": "05751219-34a0-455f-9966-66d7dc7b4f40"
      },
      "execution_count": 23,
      "outputs": [
        {
          "output_type": "execute_result",
          "data": {
            "text/plain": [
              "(2, 2)"
            ]
          },
          "metadata": {},
          "execution_count": 23
        }
      ]
    },
    {
      "cell_type": "code",
      "source": [
        "print(A-B)"
      ],
      "metadata": {
        "colab": {
          "base_uri": "https://localhost:8080/"
        },
        "id": "MID4YnyMgoZR",
        "outputId": "e2b488a5-cca1-4831-adea-df844f847ea8"
      },
      "execution_count": 24,
      "outputs": [
        {
          "output_type": "stream",
          "name": "stdout",
          "text": [
            "[[0 0]\n",
            " [0 0]]\n"
          ]
        }
      ]
    },
    {
      "cell_type": "code",
      "source": [
        "A = np.array([[81,6], [11,4]])\n",
        "B = np.array([[8,6], [1,41]])"
      ],
      "metadata": {
        "id": "NGdA6nkqgqFu"
      },
      "execution_count": 25,
      "outputs": []
    },
    {
      "cell_type": "code",
      "source": [
        "difference = np.subtract(A, B)"
      ],
      "metadata": {
        "id": "eZbjbHLfgyMP"
      },
      "execution_count": 26,
      "outputs": []
    },
    {
      "cell_type": "code",
      "source": [
        "print(difference)"
      ],
      "metadata": {
        "colab": {
          "base_uri": "https://localhost:8080/"
        },
        "id": "ziO1oEj3g3eB",
        "outputId": "8c0c24ea-9d96-485b-c711-b9bcec3ccf56"
      },
      "execution_count": 27,
      "outputs": [
        {
          "output_type": "stream",
          "name": "stdout",
          "text": [
            "[[ 73   0]\n",
            " [ 10 -37]]\n"
          ]
        }
      ]
    },
    {
      "cell_type": "markdown",
      "source": [
        "Multplying a matrix by a scalar"
      ],
      "metadata": {
        "id": "VjkRNGEthn-B"
      }
    },
    {
      "cell_type": "code",
      "source": [
        "x = 5\n",
        "y = np.random.randint(10, size = (3,3))"
      ],
      "metadata": {
        "id": "hmqeL52vg4rZ"
      },
      "execution_count": 28,
      "outputs": []
    },
    {
      "cell_type": "code",
      "source": [
        "product = (x * y)"
      ],
      "metadata": {
        "id": "cOJYkYlci4cJ"
      },
      "execution_count": 29,
      "outputs": []
    },
    {
      "cell_type": "code",
      "source": [
        "print(product)"
      ],
      "metadata": {
        "colab": {
          "base_uri": "https://localhost:8080/"
        },
        "id": "J06U2Fewi-pp",
        "outputId": "6fe80876-a643-4b8c-e1f1-d7bf29b54feb"
      },
      "execution_count": 30,
      "outputs": [
        {
          "output_type": "stream",
          "name": "stdout",
          "text": [
            "[[10 45  5]\n",
            " [35  0 45]\n",
            " [20  0 45]]\n"
          ]
        }
      ]
    },
    {
      "cell_type": "code",
      "source": [
        "product = np.multiply(x,y)"
      ],
      "metadata": {
        "id": "O_l4kV7vi_3L"
      },
      "execution_count": 31,
      "outputs": []
    },
    {
      "cell_type": "code",
      "source": [
        "print(product)"
      ],
      "metadata": {
        "colab": {
          "base_uri": "https://localhost:8080/"
        },
        "id": "ikBTn1P8jMF4",
        "outputId": "5640e55d-f197-47e1-cf24-bc6f75e31c38"
      },
      "execution_count": 32,
      "outputs": [
        {
          "output_type": "stream",
          "name": "stdout",
          "text": [
            "[[10 45  5]\n",
            " [35  0 45]\n",
            " [20  0 45]]\n"
          ]
        }
      ]
    },
    {
      "cell_type": "markdown",
      "source": [
        "Multplying two matrix"
      ],
      "metadata": {
        "id": "ElUeQphrxEFX"
      }
    },
    {
      "cell_type": "code",
      "source": [
        "x = np.random.randint(10, size = (3,3))\n",
        "y = np.random.randint(10, size = (3,3))"
      ],
      "metadata": {
        "id": "r8ye0UwfjNdm"
      },
      "execution_count": 51,
      "outputs": []
    },
    {
      "cell_type": "code",
      "source": [
        "print(x)"
      ],
      "metadata": {
        "colab": {
          "base_uri": "https://localhost:8080/"
        },
        "id": "O3ZqNFVLxYwM",
        "outputId": "d2aa4edd-7988-4979-c0a4-7004929a995d"
      },
      "execution_count": 52,
      "outputs": [
        {
          "output_type": "stream",
          "name": "stdout",
          "text": [
            "[[5 9 8]\n",
            " [2 0 3]\n",
            " [0 0 6]]\n"
          ]
        }
      ]
    },
    {
      "cell_type": "code",
      "source": [
        "print(y)"
      ],
      "metadata": {
        "colab": {
          "base_uri": "https://localhost:8080/"
        },
        "id": "SAwkr8Dsxd_b",
        "outputId": "54792d51-ee4c-4678-b87b-e6bd2757d1d7"
      },
      "execution_count": 53,
      "outputs": [
        {
          "output_type": "stream",
          "name": "stdout",
          "text": [
            "[[5 6 7]\n",
            " [6 4 6]\n",
            " [4 8 2]]\n"
          ]
        }
      ]
    },
    {
      "cell_type": "code",
      "source": [
        "product = np.dot(x, y)"
      ],
      "metadata": {
        "id": "fu6mb6OQxe1e"
      },
      "execution_count": 54,
      "outputs": []
    },
    {
      "cell_type": "code",
      "source": [
        "print(product)"
      ],
      "metadata": {
        "colab": {
          "base_uri": "https://localhost:8080/"
        },
        "id": "GOS4TUTZyLHY",
        "outputId": "dd151146-7622-42da-fd0f-1906938a15a4"
      },
      "execution_count": 55,
      "outputs": [
        {
          "output_type": "stream",
          "name": "stdout",
          "text": [
            "[[111 130 105]\n",
            " [ 22  36  20]\n",
            " [ 24  48  12]]\n"
          ]
        }
      ]
    },
    {
      "cell_type": "markdown",
      "source": [
        "Element wise matrix multiplication"
      ],
      "metadata": {
        "id": "CW1rFr9rzVZi"
      }
    },
    {
      "cell_type": "code",
      "source": [
        "x = np.random.randint(10, size = (3,3))\n",
        "y = np.random.randint(10, size = (3,3))"
      ],
      "metadata": {
        "id": "Jt97Sq9nyNJ0"
      },
      "execution_count": 59,
      "outputs": []
    },
    {
      "cell_type": "code",
      "source": [
        "print(x)"
      ],
      "metadata": {
        "colab": {
          "base_uri": "https://localhost:8080/"
        },
        "id": "C1TnFF1OzyxY",
        "outputId": "63015186-18a4-4930-bde6-aa1e779ca677"
      },
      "execution_count": 60,
      "outputs": [
        {
          "output_type": "stream",
          "name": "stdout",
          "text": [
            "[[9 6 3]\n",
            " [9 8 4]\n",
            " [9 8 0]]\n"
          ]
        }
      ]
    },
    {
      "cell_type": "code",
      "source": [
        "print(y)"
      ],
      "metadata": {
        "colab": {
          "base_uri": "https://localhost:8080/"
        },
        "id": "Bdp-spsEz9Aw",
        "outputId": "2dac8d29-90be-4978-cf00-128caa95ab43"
      },
      "execution_count": 61,
      "outputs": [
        {
          "output_type": "stream",
          "name": "stdout",
          "text": [
            "[[9 2 5]\n",
            " [9 2 2]\n",
            " [4 5 8]]\n"
          ]
        }
      ]
    },
    {
      "cell_type": "code",
      "source": [
        "product = np.multiply(x, y)"
      ],
      "metadata": {
        "id": "sMpV37Hpz7kW"
      },
      "execution_count": 62,
      "outputs": []
    },
    {
      "cell_type": "code",
      "source": [
        "print(product)"
      ],
      "metadata": {
        "colab": {
          "base_uri": "https://localhost:8080/"
        },
        "id": "xB9zloklzsyB",
        "outputId": "4920f6cf-b693-48f9-f437-110db5c6af4e"
      },
      "execution_count": 63,
      "outputs": [
        {
          "output_type": "stream",
          "name": "stdout",
          "text": [
            "[[81 12 15]\n",
            " [81 16  8]\n",
            " [36 40  0]]\n"
          ]
        }
      ]
    },
    {
      "cell_type": "code",
      "source": [],
      "metadata": {
        "id": "f-1zriygzuCu"
      },
      "execution_count": null,
      "outputs": []
    }
  ]
}