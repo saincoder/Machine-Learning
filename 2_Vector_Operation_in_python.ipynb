{
  "nbformat": 4,
  "nbformat_minor": 0,
  "metadata": {
    "colab": {
      "provenance": [],
      "authorship_tag": "ABX9TyOcvn7fPdlJUNJHDKLT/jdO",
      "include_colab_link": true
    },
    "kernelspec": {
      "name": "python3",
      "display_name": "Python 3"
    },
    "language_info": {
      "name": "python"
    }
  },
  "cells": [
    {
      "cell_type": "markdown",
      "metadata": {
        "id": "view-in-github",
        "colab_type": "text"
      },
      "source": [
        "<a href=\"https://colab.research.google.com/github/shaid03/Machine-Learning/blob/main/2_Vector_Operation_in_python.ipynb\" target=\"_parent\"><img src=\"https://colab.research.google.com/assets/colab-badge.svg\" alt=\"Open In Colab\"/></a>"
      ]
    },
    {
      "cell_type": "code",
      "execution_count": 9,
      "metadata": {
        "id": "5qMfkOtpmaW2"
      },
      "outputs": [],
      "source": [
        "# import libraries\n",
        "import numpy as np"
      ]
    },
    {
      "cell_type": "code",
      "source": [
        "a = np.array([2,3])\n",
        "b = np.array([4,4])\n",
        "\n",
        "a_dot_b = np.dot(a,b)"
      ],
      "metadata": {
        "id": "J16_YMe9nnMk"
      },
      "execution_count": 10,
      "outputs": []
    },
    {
      "cell_type": "code",
      "source": [
        "print(a_dot_b)"
      ],
      "metadata": {
        "colab": {
          "base_uri": "https://localhost:8080/"
        },
        "id": "sDn9RF4uo_gA",
        "outputId": "3947d447-0cb2-4f8d-ce69-68b6991b5394"
      },
      "execution_count": 11,
      "outputs": [
        {
          "output_type": "stream",
          "name": "stdout",
          "text": [
            "20\n"
          ]
        }
      ]
    },
    {
      "cell_type": "code",
      "source": [
        "c = np.array([200,300, 50])\n",
        "d = np.array([400,400, 60])\n",
        "\n",
        "c_dot_d = np.dot(c,d)\n",
        "c_dot_d"
      ],
      "metadata": {
        "colab": {
          "base_uri": "https://localhost:8080/"
        },
        "id": "1XZgmgNDpByx",
        "outputId": "ef5744b5-52ab-48ca-d619-671b962ac06c"
      },
      "execution_count": 12,
      "outputs": [
        {
          "output_type": "execute_result",
          "data": {
            "text/plain": [
              "203000"
            ]
          },
          "metadata": {},
          "execution_count": 12
        }
      ]
    },
    {
      "cell_type": "markdown",
      "source": [
        "Cross product of two vector"
      ],
      "metadata": {
        "id": "xMaFOxinq9IR"
      }
    },
    {
      "cell_type": "code",
      "source": [
        "a = np.array([2,3])\n",
        "b = np.array([4,4])\n",
        "\n",
        "a_cross_b = np.cross(a,b)\n",
        "print(a_cross_b)"
      ],
      "metadata": {
        "colab": {
          "base_uri": "https://localhost:8080/"
        },
        "id": "h7vtRcoHqlDY",
        "outputId": "179bb746-cb84-46b5-d6c0-93bd20107cde"
      },
      "execution_count": 13,
      "outputs": [
        {
          "output_type": "stream",
          "name": "stdout",
          "text": [
            "-4\n"
          ]
        }
      ]
    },
    {
      "cell_type": "code",
      "source": [
        "c = np.array([2,3,6])\n",
        "d = np.array([4,4,6])\n",
        "\n",
        "c_cross_d = np.cross(c,d)\n",
        "print(c_cross_d)"
      ],
      "metadata": {
        "colab": {
          "base_uri": "https://localhost:8080/"
        },
        "id": "smSWHkMixa_F",
        "outputId": "74e0812c-ce77-40dd-b166-a86798317f04"
      },
      "execution_count": 14,
      "outputs": [
        {
          "output_type": "stream",
          "name": "stdout",
          "text": [
            "[-6 12 -4]\n"
          ]
        }
      ]
    },
    {
      "cell_type": "markdown",
      "source": [
        "projection on a vector on v vector\n"
      ],
      "metadata": {
        "id": "6GTRyNPiySQP"
      }
    },
    {
      "cell_type": "code",
      "source": [
        "a = np.array([2,5])\n",
        "\n",
        "v = np.array([8,-6])\n",
        "\n",
        "# magnitude of \"V\" vector\n",
        "magnitude_of_v = np.sqrt(sum(v**2))\n",
        "\n",
        "proj_of_a_on_v = (np.dot(a,v)/magnitude_of_v**2)*v\n",
        "\n",
        "print(f\"Projection of 'a' vector on 'v' vector = {proj_of_a_on_v}\")"
      ],
      "metadata": {
        "colab": {
          "base_uri": "https://localhost:8080/"
        },
        "id": "J1pDa78UxxQw",
        "outputId": "d9ec0abd-9d00-4fb7-ca2b-47c3c610f201"
      },
      "execution_count": 17,
      "outputs": [
        {
          "output_type": "stream",
          "name": "stdout",
          "text": [
            "Projection of 'a' vector on 'v' vector = [-1.12  0.84]\n"
          ]
        }
      ]
    },
    {
      "cell_type": "code",
      "source": [
        "a = np.array([200,500, 100])\n",
        "\n",
        "v = np.array([800,-600, 100])\n",
        "\n",
        "# magnitude of \"V\" vector\n",
        "magnitude_of_v = np.sqrt(sum(v**2))\n",
        "\n",
        "proj_of_a_on_v = (np.dot(a,v)/magnitude_of_v**2)*v\n",
        "\n",
        "print(f\"Projection of 'a' vector on 'v' vector = {proj_of_a_on_v}\")"
      ],
      "metadata": {
        "colab": {
          "base_uri": "https://localhost:8080/"
        },
        "id": "Snnxwqby0NUE",
        "outputId": "cab2a1e6-a5df-4f90-dd8e-6d5f04474b12"
      },
      "execution_count": 18,
      "outputs": [
        {
          "output_type": "stream",
          "name": "stdout",
          "text": [
            "Projection of 'a' vector on 'v' vector = [-102.97029703   77.22772277  -12.87128713]\n"
          ]
        }
      ]
    },
    {
      "cell_type": "code",
      "source": [],
      "metadata": {
        "id": "9VdINUxv01ML"
      },
      "execution_count": null,
      "outputs": []
    }
  ]
}